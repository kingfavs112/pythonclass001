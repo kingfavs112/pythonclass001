{
 "cells": [
  {
   "cell_type": "code",
   "execution_count": 1,
   "id": "2d758aae",
   "metadata": {},
   "outputs": [
    {
     "name": "stdout",
     "output_type": "stream",
     "text": [
      "458.0\n"
     ]
    }
   ],
   "source": [
    "# program to display number in float using print \n",
    "num=\"458\"\n",
    "print(float(num))"
   ]
  },
  {
   "cell_type": "code",
   "execution_count": 4,
   "id": "d67fe02d",
   "metadata": {},
   "outputs": [
    {
     "name": "stdout",
     "output_type": "stream",
     "text": [
      "enter your first name :adoroh\n",
      "enter your last name :favour\n",
      "enter your middle name :kenneth\n",
      "thank you\n"
     ]
    }
   ],
   "source": [
    "# program to take three names as input from a user\n",
    "fname = input(\"enter your first name :\")\n",
    "lname = input(\"enter your last name :\")\n",
    "mname = input(\"enter your middle name :\")\n",
    "print(\"thank you\")"
   ]
  },
  {
   "cell_type": "code",
   "execution_count": 3,
   "id": "c901e3cc",
   "metadata": {},
   "outputs": [
    {
     "name": "stdout",
     "output_type": "stream",
     "text": [
      "Enter the principal amount :5000\n",
      "Enter the number of years :3\n",
      "Enter the rate of interest :0.06\n",
      "compound interest : 5009.005401079999\n"
     ]
    }
   ],
   "source": [
    "##Python program to compute compound interest\n",
    "\n",
    "p = float(input(\"Enter the principal amount :\"))\n",
    "\n",
    "t = float(input(\"Enter the number of years :\"))\n",
    "\n",
    "r = float(input(\"Enter the rate of interest :\"))\n",
    "\n",
    "#compute compound interest \n",
    "ci =  p * (pow((1 + r / 100), t))\n",
    "\n",
    "#print \n",
    "print(\"compound interest : {}\".format(ci))"
   ]
  },
  {
   "cell_type": "code",
   "execution_count": null,
   "id": "b060b57a",
   "metadata": {},
   "outputs": [],
   "source": []
  }
 ],
 "metadata": {
  "kernelspec": {
   "display_name": "Python 3 (ipykernel)",
   "language": "python",
   "name": "python3"
  },
  "language_info": {
   "codemirror_mode": {
    "name": "ipython",
    "version": 3
   },
   "file_extension": ".py",
   "mimetype": "text/x-python",
   "name": "python",
   "nbconvert_exporter": "python",
   "pygments_lexer": "ipython3",
   "version": "3.9.12"
  }
 },
 "nbformat": 4,
 "nbformat_minor": 5
}
