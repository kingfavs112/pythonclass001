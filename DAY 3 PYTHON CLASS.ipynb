{
 "cells": [
  {
   "cell_type": "code",
   "execution_count": 1,
   "id": "8cae4536",
   "metadata": {
    "scrolled": true
   },
   "outputs": [
    {
     "name": "stdout",
     "output_type": "stream",
     "text": [
      "<class 'tuple'>\n"
     ]
    }
   ],
   "source": [
    "numbers = (7,8,9,10,11,12,23,)\n",
    "print(type(numbers))\n"
   ]
  },
  {
   "cell_type": "code",
   "execution_count": 2,
   "id": "f28011da",
   "metadata": {},
   "outputs": [
    {
     "name": "stdout",
     "output_type": "stream",
     "text": [
      "11\n"
     ]
    }
   ],
   "source": [
    "print(numbers[4])"
   ]
  },
  {
   "cell_type": "code",
   "execution_count": 3,
   "id": "9b01c61f",
   "metadata": {},
   "outputs": [
    {
     "name": "stdout",
     "output_type": "stream",
     "text": [
      "10\n"
     ]
    }
   ],
   "source": [
    "print(numbers[-4])"
   ]
  },
  {
   "cell_type": "code",
   "execution_count": 4,
   "id": "f2a09c66",
   "metadata": {},
   "outputs": [
    {
     "name": "stdout",
     "output_type": "stream",
     "text": [
      "(8, 9, 10, 11)\n"
     ]
    }
   ],
   "source": [
    "print(numbers[1:5])"
   ]
  },
  {
   "cell_type": "code",
   "execution_count": 6,
   "id": "f180d9a5",
   "metadata": {},
   "outputs": [
    {
     "name": "stdout",
     "output_type": "stream",
     "text": [
      "1\n"
     ]
    }
   ],
   "source": [
    "print(numbers.count(10))"
   ]
  },
  {
   "cell_type": "code",
   "execution_count": 7,
   "id": "5e0c54a1",
   "metadata": {},
   "outputs": [
    {
     "name": "stdout",
     "output_type": "stream",
     "text": [
      "3\n"
     ]
    }
   ],
   "source": [
    "print(numbers.index(10))"
   ]
  },
  {
   "cell_type": "code",
   "execution_count": 8,
   "id": "3729d935",
   "metadata": {},
   "outputs": [
    {
     "name": "stdout",
     "output_type": "stream",
     "text": [
      "False\n"
     ]
    }
   ],
   "source": [
    "print(50 in numbers)"
   ]
  },
  {
   "cell_type": "code",
   "execution_count": 3,
   "id": "d5469066",
   "metadata": {},
   "outputs": [
    {
     "name": "stdout",
     "output_type": "stream",
     "text": [
      "['cup', 'spoon', 'house', 'car', 'favour', 'wisdom', 'cherry']\n"
     ]
    }
   ],
   "source": [
    "items =['cup','spoon','house','car','favour','wisdom']\n",
    "items.append('cherry')\n",
    "print(items)"
   ]
  },
  {
   "cell_type": "code",
   "execution_count": 4,
   "id": "6fe32958",
   "metadata": {},
   "outputs": [
    {
     "name": "stdout",
     "output_type": "stream",
     "text": [
      "['cup', 'spoon', 'house', 'car', 'favour', 'wisdom', 'cherry', 'banner', 'cup', 'strawberry', 'packer', 'bag']\n"
     ]
    }
   ],
   "source": [
    "store = ('banner','cup','strawberry','packer','bag')\n",
    "items.extend(store)\n",
    "print(items)"
   ]
  },
  {
   "cell_type": "code",
   "execution_count": 5,
   "id": "8767aa50",
   "metadata": {},
   "outputs": [
    {
     "name": "stdout",
     "output_type": "stream",
     "text": [
      "['cup', 'spoon', 'house', 'car', 'favour', 'wisdom', 'goat', 'cherry', 'banner', 'cup', 'strawberry', 'packer', 'bag']\n"
     ]
    }
   ],
   "source": [
    "items.insert(6,'goat')\n",
    "print(items)"
   ]
  },
  {
   "cell_type": "code",
   "execution_count": 6,
   "id": "15b88de2",
   "metadata": {},
   "outputs": [
    {
     "name": "stdout",
     "output_type": "stream",
     "text": [
      "['bag', 'banner', 'car', 'cherry', 'cup', 'cup', 'favour', 'goat', 'house', 'packer', 'spoon', 'strawberry', 'wisdom']\n"
     ]
    }
   ],
   "source": [
    "items.sort()\n",
    "print(items)"
   ]
  },
  {
   "cell_type": "code",
   "execution_count": 8,
   "id": "30405e50",
   "metadata": {},
   "outputs": [
    {
     "name": "stdout",
     "output_type": "stream",
     "text": [
      "['bag', 'banner', 'car', 'cherry', 'cup', 'cup', 'favour', 'goat', 'house', 'packer', 'spoon']\n",
      "['bag', 'banner', 'car', 'cherry', 'cup', 'cup', 'goat', 'house', 'packer', 'spoon']\n"
     ]
    }
   ],
   "source": [
    "items.pop()\n",
    "print(items)\n",
    "items.pop(6)\n",
    "print(items)"
   ]
  },
  {
   "cell_type": "code",
   "execution_count": 10,
   "id": "096dc34b",
   "metadata": {},
   "outputs": [
    {
     "name": "stdout",
     "output_type": "stream",
     "text": [
      "['bag', 'banner', 'car', 'cup', 'cup', 'goat', 'house', 'packer', 'spoon']\n"
     ]
    }
   ],
   "source": [
    "items.remove('cherry')\n",
    "print(items)"
   ]
  },
  {
   "cell_type": "code",
   "execution_count": 11,
   "id": "0ac43abc",
   "metadata": {},
   "outputs": [
    {
     "name": "stdout",
     "output_type": "stream",
     "text": [
      "['spoon', 'packer', 'house', 'goat', 'cup', 'cup', 'car', 'banner', 'bag']\n"
     ]
    }
   ],
   "source": [
    "items.reverse()\n",
    "print(items)"
   ]
  },
  {
   "cell_type": "code",
   "execution_count": 12,
   "id": "4d502f4e",
   "metadata": {},
   "outputs": [
    {
     "name": "stdout",
     "output_type": "stream",
     "text": [
      "['spoon', 'packer', 'house', 'goat', 'cup', 'cup', 'car', 'banner', 'bag']\n"
     ]
    }
   ],
   "source": [
    "items.copy()\n",
    "print(items)"
   ]
  },
  {
   "cell_type": "code",
   "execution_count": 16,
   "id": "a2b61cb8",
   "metadata": {},
   "outputs": [
    {
     "ename": "SyntaxError",
     "evalue": "cannot delete literal (3938349112.py, line 1)",
     "output_type": "error",
     "traceback": [
      "\u001b[1;36m  Input \u001b[1;32mIn [16]\u001b[1;36m\u001b[0m\n\u001b[1;33m    del('items')\u001b[0m\n\u001b[1;37m        ^\u001b[0m\n\u001b[1;31mSyntaxError\u001b[0m\u001b[1;31m:\u001b[0m cannot delete literal\n"
     ]
    }
   ],
   "source": [
    "del('items')\n",
    "print(items)"
   ]
  },
  {
   "cell_type": "code",
   "execution_count": 18,
   "id": "187f6a39",
   "metadata": {},
   "outputs": [
    {
     "name": "stdout",
     "output_type": "stream",
     "text": [
      "Ade\n"
     ]
    }
   ],
   "source": [
    "records = {\n",
    "     'Name' : 'Ade',\n",
    "    'Gender' : 'Male',\n",
    "    'Age' : 25,\n",
    "    'Height' : 2.00,\n",
    "    'weight' : 75\n",
    "}\n",
    "print(records['Name'])"
   ]
  },
  {
   "cell_type": "code",
   "execution_count": 20,
   "id": "3faf9cb6",
   "metadata": {},
   "outputs": [
    {
     "name": "stdout",
     "output_type": "stream",
     "text": [
      "{'Name': 'Ade', 'Gender': 'Male', 'Age': 25, 'Height': 2.0, 'weight': 75, 'Weight': 80}\n"
     ]
    }
   ],
   "source": [
    "r = {'Weight' : 80}\n",
    "records.update(r)\n",
    "print(records)"
   ]
  },
  {
   "cell_type": "code",
   "execution_count": 22,
   "id": "e840c3dd",
   "metadata": {},
   "outputs": [
    {
     "name": "stdout",
     "output_type": "stream",
     "text": [
      "{'Name': 'Favour', 'Gender': 'Male', 'Age': 25, 'Height': 2.0, 'weight': 75, 'Weight': 80}\n"
     ]
    }
   ],
   "source": [
    "r = {'Name' : 'Favour'}\n",
    "records.update(r)\n",
    "print(records)"
   ]
  },
  {
   "cell_type": "code",
   "execution_count": 5,
   "id": "f359b709",
   "metadata": {},
   "outputs": [
    {
     "ename": "SyntaxError",
     "evalue": "invalid syntax (58145461.py, line 3)",
     "output_type": "error",
     "traceback": [
      "\u001b[1;36m  Input \u001b[1;32mIn [5]\u001b[1;36m\u001b[0m\n\u001b[1;33m    \"Age\":[40,50,60]\u001b[0m\n\u001b[1;37m    ^\u001b[0m\n\u001b[1;31mSyntaxError\u001b[0m\u001b[1;31m:\u001b[0m invalid syntax\n"
     ]
    }
   ],
   "source": [
    "details = {\n",
    "    'Names':['ade', 'ojo', 'jane']\n",
    "     \"Age\":[40,50,60]\n",
    "}\n",
    "print(details['Names'][1])"
   ]
  },
  {
   "cell_type": "code",
   "execution_count": null,
   "id": "5afd7215",
   "metadata": {},
   "outputs": [],
   "source": []
  },
  {
   "cell_type": "code",
   "execution_count": null,
   "id": "3d8069cf",
   "metadata": {},
   "outputs": [],
   "source": []
  }
 ],
 "metadata": {
  "kernelspec": {
   "display_name": "Python 3 (ipykernel)",
   "language": "python",
   "name": "python3"
  },
  "language_info": {
   "codemirror_mode": {
    "name": "ipython",
    "version": 3
   },
   "file_extension": ".py",
   "mimetype": "text/x-python",
   "name": "python",
   "nbconvert_exporter": "python",
   "pygments_lexer": "ipython3",
   "version": "3.9.12"
  }
 },
 "nbformat": 4,
 "nbformat_minor": 5
}
