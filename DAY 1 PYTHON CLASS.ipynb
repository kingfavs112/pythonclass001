{
 "cells": [
  {
   "cell_type": "code",
   "execution_count": 2,
   "id": "c31ae8a1",
   "metadata": {},
   "outputs": [
    {
     "name": "stdout",
     "output_type": "stream",
     "text": [
      "adoroh favour\n",
      "we're brothers from the other side of the town\n",
      "python is fun\n",
      "python is easy to learn\n",
      "python has an interactive environment\n",
      "python is fun\n",
      "python is easy to learn\n",
      "python has an interactive environmen\n",
      "\n",
      "hello world\n",
      "welcome to earlycode adoroh favour\n",
      "Ade is 26 years old, Ojo is 30 years old and paul is 20 years old \n",
      "Ade is 26 years old, Ojo is 30 years old and paul is 20 years old\n",
      "PYTHON\n",
      "python\n",
      "Python Is Fun\n",
      "Python is fun\n",
      "['python', 'is', 'fun']\n",
      "strip will clear off anyspace in front and back of a string\n"
     ]
    }
   ],
   "source": [
    "num = 12#Num as a variable storing an integer value of 12\n",
    "num2 = 15.6#Num2 as a variable storing a floating value of 15.6\n",
    "studentname = 'adoroh favour'#studentname as a varible storing a sting value\n",
    "X =True # X as a cvarible stroing a boolean value\n",
    "\n",
    "#Declear a varible to hold any int value\n",
    "#Declear a variable to hold a floating value\n",
    "#Declear a variable to hold your firstname and another variable to hold your surname\n",
    "#Declear a varible to any of the boolean value\n",
    "print(studentname)\n",
    "word ='we\\'re brothers from the other side of the town'\n",
    "print(word)\n",
    "word2 = 'python is fun\\npython is easy to learn\\npython has an interactive environment'\n",
    "print(word2)\n",
    "\n",
    "word3 = '''python is fun\n",
    "python is easy to learn\n",
    "python has an interactive environmen\n",
    "'''\n",
    "print(word3)\n",
    "\n",
    "print('hello' + ' '+ 'world')\n",
    "print('welcome to earlycode', studentname)\n",
    "age1 = 26\n",
    "age2 = 30\n",
    "age3 = 20\n",
    "report = 'Ade is {} years old, Ojo is {} years old and paul is {} years old '\n",
    "print(report.format(age1,age2,age3))\n",
    "print(f'Ade is {age1} years old, Ojo is {age2} years old and paul is {age3} years old')\n",
    "\n",
    "\n",
    "word1 = 'python'\n",
    "word2 = 'PYTHON'\n",
    "word3 = 'python is fun'\n",
    "word4 = '  strip will clear off anyspace in front and back of a string'\n",
    "print(word1.upper())\n",
    "print(word2.lower())\n",
    "print(word3.title())\n",
    "print(word3.capitalize())\n",
    "print(word3.split())\n",
    "print(word4.strip()) \n",
    "\n"
   ]
  },
  {
   "cell_type": "code",
   "execution_count": null,
   "id": "a1baec92",
   "metadata": {},
   "outputs": [],
   "source": []
  }
 ],
 "metadata": {
  "kernelspec": {
   "display_name": "Python 3 (ipykernel)",
   "language": "python",
   "name": "python3"
  },
  "language_info": {
   "codemirror_mode": {
    "name": "ipython",
    "version": 3
   },
   "file_extension": ".py",
   "mimetype": "text/x-python",
   "name": "python",
   "nbconvert_exporter": "python",
   "pygments_lexer": "ipython3",
   "version": "3.9.12"
  }
 },
 "nbformat": 4,
 "nbformat_minor": 5
}
