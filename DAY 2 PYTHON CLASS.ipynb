{
 "cells": [
  {
   "cell_type": "code",
   "execution_count": 2,
   "id": "d73075b8",
   "metadata": {},
   "outputs": [
    {
     "name": "stdout",
     "output_type": "stream",
     "text": [
      "45\n"
     ]
    }
   ],
   "source": [
    "num = int(45.65)\n",
    "print(num)"
   ]
  },
  {
   "cell_type": "code",
   "execution_count": 2,
   "id": "bdf80e0d",
   "metadata": {},
   "outputs": [
    {
     "name": "stdout",
     "output_type": "stream",
     "text": [
      "45\n"
     ]
    }
   ],
   "source": [
    "print(str(num))"
   ]
  },
  {
   "cell_type": "code",
   "execution_count": 3,
   "id": "2ae0a043",
   "metadata": {},
   "outputs": [
    {
     "ename": "ValueError",
     "evalue": "could not convert string to float: 'p'",
     "output_type": "error",
     "traceback": [
      "\u001b[1;31m---------------------------------------------------------------------------\u001b[0m",
      "\u001b[1;31mValueError\u001b[0m                                Traceback (most recent call last)",
      "Input \u001b[1;32mIn [3]\u001b[0m, in \u001b[0;36m<cell line: 2>\u001b[1;34m()\u001b[0m\n\u001b[0;32m      1\u001b[0m word \u001b[38;5;241m=\u001b[39m \u001b[38;5;124m'\u001b[39m\u001b[38;5;124mp\u001b[39m\u001b[38;5;124m'\u001b[39m\n\u001b[1;32m----> 2\u001b[0m \u001b[38;5;28mprint\u001b[39m(\u001b[38;5;28;43mfloat\u001b[39;49m\u001b[43m(\u001b[49m\u001b[43mword\u001b[49m\u001b[43m)\u001b[49m)\n",
      "\u001b[1;31mValueError\u001b[0m: could not convert string to float: 'p'"
     ]
    }
   ],
   "source": [
    "word = 'p'\n",
    "print(float(word))"
   ]
  },
  {
   "cell_type": "code",
   "execution_count": 4,
   "id": "c852b710",
   "metadata": {},
   "outputs": [
    {
     "name": "stdout",
     "output_type": "stream",
     "text": [
      "100.0\n"
     ]
    }
   ],
   "source": [
    "num2 = '100'\n",
    "print(float(num2))"
   ]
  },
  {
   "cell_type": "code",
   "execution_count": 5,
   "id": "0bec3cdb",
   "metadata": {},
   "outputs": [
    {
     "name": "stdout",
     "output_type": "stream",
     "text": [
      "Please provide your name favour\n"
     ]
    }
   ],
   "source": [
    "# input function\n",
    "name = input('Please provide your name')"
   ]
  },
  {
   "cell_type": "code",
   "execution_count": 7,
   "id": "d644e0f8",
   "metadata": {},
   "outputs": [
    {
     "name": "stdout",
     "output_type": "stream",
     "text": [
      "Please provide your age 20\n",
      "20\n"
     ]
    }
   ],
   "source": [
    "age = int(input('Please provide your age'))\n",
    "print(age)"
   ]
  },
  {
   "cell_type": "code",
   "execution_count": 8,
   "id": "6596856a",
   "metadata": {},
   "outputs": [
    {
     "name": "stdout",
     "output_type": "stream",
     "text": [
      "90 + 25 = 115\n",
      "90 - 25 = 65\n",
      "90 / 25 = 3.6\n",
      "90 * 25 = 2250\n",
      "90 % 25 = 15\n",
      "90 // 25 = 3\n",
      "90 ** 25 = 7178979876918525887702490000000000000000000000000\n"
     ]
    }
   ],
   "source": [
    "num1 = 90\n",
    "num2 = 25\n",
    "print(f'{num1} + {num2} = {num1 + num2}')\n",
    "print(f'{num1} - {num2} = {num1 - num2}')\n",
    "print(f'{num1} / {num2} = {num1 / num2}')\n",
    "print(f'{num1} * {num2} = {num1 * num2}')\n",
    "print(f'{num1} % {num2} = {num1 % num2}')\n",
    "print(f'{num1} // {num2} = {num1 // num2}')\n",
    "print(f'{num1} ** {num2} = {num1 ** num2}')"
   ]
  },
  {
   "cell_type": "code",
   "execution_count": 9,
   "id": "62d6f2e8",
   "metadata": {},
   "outputs": [
    {
     "name": "stdout",
     "output_type": "stream",
     "text": [
      "90 > 25 = True\n",
      "90 < 25 = False\n",
      "90 >= 25 = True\n",
      "90 <= 25 = False\n",
      "90 == 25 = False\n",
      "90 != 25 = True\n"
     ]
    }
   ],
   "source": [
    "#Comparism Operators\n",
    "print(f'{num1} > {num2} = {num1 > num2}')\n",
    "print(f'{num1} < {num2} = {num1 < num2}')\n",
    "print(f'{num1} >= {num2} = {num1 >= num2}')\n",
    "print(f'{num1} <= {num2} = {num1 <= num2}')\n",
    "print(f'{num1} == {num2} = {num1 == num2}')\n",
    "print(f'{num1} != {num2} = {num1 != num2}')"
   ]
  },
  {
   "cell_type": "code",
   "execution_count": 10,
   "id": "35b35693",
   "metadata": {},
   "outputs": [
    {
     "name": "stdout",
     "output_type": "stream",
     "text": [
      "False\n",
      "True\n",
      "False\n"
     ]
    }
   ],
   "source": [
    "#logical Operators\n",
    "#and, or, not\n",
    "print(num1 > num2 and num1 == num2)\n",
    "print(num1 > num2 or num1 == num2)\n",
    "print(not num1)"
   ]
  },
  {
   "cell_type": "code",
   "execution_count": 11,
   "id": "20a6aeba",
   "metadata": {},
   "outputs": [
    {
     "name": "stdout",
     "output_type": "stream",
     "text": [
      "True\n",
      "True\n"
     ]
    }
   ],
   "source": [
    "#Membership operators\n",
    "#in, not in\n",
    "word = 'python'\n",
    "print('p' in word)\n",
    "print('P' not in word)"
   ]
  },
  {
   "cell_type": "code",
   "execution_count": 12,
   "id": "287e6275",
   "metadata": {},
   "outputs": [
    {
     "name": "stdout",
     "output_type": "stream",
     "text": [
      "False\n",
      "True\n"
     ]
    }
   ],
   "source": [
    "#Identity Operators \n",
    "#is , is not\n",
    "print(num1 is num2)\n",
    "print(num2 is not num1)"
   ]
  },
  {
   "cell_type": "code",
   "execution_count": 13,
   "id": "9a391333",
   "metadata": {},
   "outputs": [
    {
     "name": "stdout",
     "output_type": "stream",
     "text": [
      "enter your first namefavour\n",
      "enter your last nameadoroh\n",
      "enter your middle namekenneth\n",
      "thank you\n"
     ]
    }
   ],
   "source": [
    "# python programm \n",
    "# to take three name as input from a user\n",
    "Fname = input(\"enter your first name\")\n",
    "lname = input(\"enter your last name\")\n",
    "mname = input(\"enter your middle name\")\n",
    "print (\"thank you\")"
   ]
  },
  {
   "cell_type": "code",
   "execution_count": null,
   "id": "3e69d303",
   "metadata": {},
   "outputs": [],
   "source": []
  }
 ],
 "metadata": {
  "kernelspec": {
   "display_name": "Python 3 (ipykernel)",
   "language": "python",
   "name": "python3"
  },
  "language_info": {
   "codemirror_mode": {
    "name": "ipython",
    "version": 3
   },
   "file_extension": ".py",
   "mimetype": "text/x-python",
   "name": "python",
   "nbconvert_exporter": "python",
   "pygments_lexer": "ipython3",
   "version": "3.9.12"
  }
 },
 "nbformat": 4,
 "nbformat_minor": 5
}
