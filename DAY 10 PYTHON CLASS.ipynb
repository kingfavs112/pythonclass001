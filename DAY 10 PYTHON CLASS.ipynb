{
 "cells": [
  {
   "cell_type": "code",
   "execution_count": 3,
   "id": "a3bd0707",
   "metadata": {},
   "outputs": [
    {
     "name": "stdout",
     "output_type": "stream",
     "text": [
      "Enter y as yes to login and perform opeartions on the system and n as no to quity\n",
      "choose your operation[accept,details,price_charge,body_mass_index_checker]accept\n",
      "client namefavour\n",
      "client gendermale\n",
      "client countrynigeria\n",
      "client continentafrica\n",
      "client Height1.45\n",
      "client weight60\n",
      "Enter y as yes to login and perform operations on the system and n as no to quitey\n",
      "choose your operation[accept,details,price_charge,body_mass_index_checker]details\n"
     ]
    },
    {
     "ename": "NameError",
     "evalue": "name 'opeartion' is not defined",
     "output_type": "error",
     "traceback": [
      "\u001b[1;31m---------------------------------------------------------------------------\u001b[0m",
      "\u001b[1;31mNameError\u001b[0m                                 Traceback (most recent call last)",
      "Input \u001b[1;32mIn [3]\u001b[0m, in \u001b[0;36m<cell line: 52>\u001b[1;34m()\u001b[0m\n\u001b[0;32m     54\u001b[0m \u001b[38;5;28;01mif\u001b[39;00m operation \u001b[38;5;241m==\u001b[39m \u001b[38;5;124m'\u001b[39m\u001b[38;5;124maccept\u001b[39m\u001b[38;5;124m'\u001b[39m:\n\u001b[0;32m     55\u001b[0m     obj\u001b[38;5;241m.\u001b[39maccept(\u001b[38;5;28minput\u001b[39m(\u001b[38;5;124m'\u001b[39m\u001b[38;5;124mclient name\u001b[39m\u001b[38;5;124m'\u001b[39m),\u001b[38;5;28minput\u001b[39m(\u001b[38;5;124m'\u001b[39m\u001b[38;5;124mclient gender\u001b[39m\u001b[38;5;124m'\u001b[39m),\u001b[38;5;28minput\u001b[39m(\u001b[38;5;124m'\u001b[39m\u001b[38;5;124mclient country\u001b[39m\u001b[38;5;124m'\u001b[39m),\u001b[38;5;28minput\u001b[39m(\u001b[38;5;124m'\u001b[39m\u001b[38;5;124mclient continent\u001b[39m\u001b[38;5;124m'\u001b[39m),\u001b[38;5;28mfloat\u001b[39m(\u001b[38;5;28minput\u001b[39m(\u001b[38;5;124m'\u001b[39m\u001b[38;5;124mclient Height\u001b[39m\u001b[38;5;124m'\u001b[39m)),\u001b[38;5;28mfloat\u001b[39m(\u001b[38;5;28minput\u001b[39m(\u001b[38;5;124m'\u001b[39m\u001b[38;5;124mclient weight\u001b[39m\u001b[38;5;124m'\u001b[39m)))\n\u001b[1;32m---> 56\u001b[0m \u001b[38;5;28;01melif\u001b[39;00m \u001b[43mopeartion\u001b[49m \u001b[38;5;241m==\u001b[39m\u001b[38;5;124m'\u001b[39m\u001b[38;5;124mdetails\u001b[39m\u001b[38;5;124m'\u001b[39m:\n\u001b[0;32m     57\u001b[0m     \u001b[38;5;28mprint\u001b[39m(\u001b[38;5;124m'\u001b[39m\u001b[38;5;124mLIST OF OUR CLIENT\u001b[39m\u001b[38;5;124m'\u001b[39m)\n\u001b[0;32m     58\u001b[0m     \u001b[38;5;28;01mfor\u001b[39;00m i \u001b[38;5;129;01min\u001b[39;00m \u001b[38;5;28mrange\u001b[39m(\u001b[38;5;28mlen\u001b[39m(customers)):\n",
      "\u001b[1;31mNameError\u001b[0m: name 'opeartion' is not defined"
     ]
    }
   ],
   "source": [
    "class BMI:\n",
    "    def __init__(self,name,gender,country,continent,height,weight):\n",
    "        self.name = name\n",
    "        self.gender = gender\n",
    "        self.country = country\n",
    "        self.continent = continent\n",
    "        self.height = height\n",
    "        self.weight = weight \n",
    "    def accept(self,NAME,GENDER,COUNTRY,CONTINENT,HEIGHT,WEIGHT):\n",
    "        ob=BMI(NAME,GENDER,COUNTRY,CONTINENT,HEIGHT,WEIGHT)\n",
    "        customers.append(ob)\n",
    "    def details(self,ob):\n",
    "        print(f'''NAME:{ob.name}\n",
    "GENDER:{ob.gender}\n",
    "COUNTRY:{ob.country}\n",
    "CONTINENT:{ob.continent}\n",
    "HEIGHT:{ob.height}\n",
    "WEIGHT:{ob.weight}\n",
    "''')\n",
    "    def price_charge(self):\n",
    "        continent = input('PLEASE PROVIDE YOUR CONTINENT ONCE AGAIN:')\n",
    "        if continent == 'african':\n",
    "            print('you be charged a consultation fee of $50')\n",
    "        elif continent == 'Asia':\n",
    "            print('you be charged a consultation fee of $70')\n",
    "        elif continent == 'south america':\n",
    "            print('you be charged a consultation fee of $65')\n",
    "        elif continent == 'north america':\n",
    "            print('you be charged a consultation fee of $65')\n",
    "        elif continent == 'Europe':\n",
    "            print('you be charged a consultation fee of $150')\n",
    "        elif continent == 'Oceania':\n",
    "            print('you be charged a consultation fee of $200')\n",
    "        else:\n",
    "            print('YOU HAVE PROVIDED A INVALID CONTINENT')\n",
    "    def body_mass_index_checker(self):\n",
    "        height = float(input('PLEASE PROVIDE YOUR HEIGHT ONCE AGAIN'))\n",
    "        weight = float(input('PLEASE PROVIDE YOUR WEIGHT ONCE AGAIN'))\n",
    "        bmi = (weight/(height**2))\n",
    "        if bmi < 18.5:\n",
    "            print('HEY YOU ARE UNDER WEIGHT PLEASE HELD ON TO THE NUTRITION SECTION FOR YOUR MEDICATION ANFD DEIT ROUTINE')\n",
    "        elif bmi >= 18.5 and bmi <= 24.9:\n",
    "            print('HEY YOUR ARE HEALTHY PLEASE CONTINUE YOUR DEIT ROUTINE')\n",
    "        elif bmi >= 25 and bmi <= 29.9:\n",
    "            print('HEY YOU ARE OVER WEIGHT PLEASE HELD ON TO THE NUTRITION SECTION FOR YOUR MEDICATION ANFD DEIT ROUTINE')\n",
    "        else:\n",
    "            print('HEY  YOU ARE OBESE  PLEASE HELD ON TO THE NUTRITON SECTION FOR YOUR MEDICATION AND DIET ROUTINE')\n",
    "customers = []\n",
    "obj = BMI('','','','',0,0)\n",
    "X = input('Enter y as yes to login and perform opeartions on the system and n as no to quit')\n",
    "n = 1\n",
    "while X == 'y':\n",
    "    operation = input('choose your operation[accept,details,price_charge,body_mass_index_checker]')\n",
    "    if operation == 'accept':\n",
    "        obj.accept(input('client name'),input('client gender'),input('client country'),input('client continent'),float(input('client Height')),float(input('client weight')))\n",
    "    elif opeartion =='details':\n",
    "        print('LIST OF OUR CLIENT')\n",
    "        for i in range(len(customers)):\n",
    "            obj.details(customers[i])\n",
    "    elif operation =='price_charge':\n",
    "        obj.price_charge()         \n",
    "    elif opeartion =='body_mass_index_checker':\n",
    "        obj.body_mass_index_checker()   \n",
    "    x = input('Enter y as yes to login and perform operations on the system and n as no to quite')\n",
    "    n = n + 1\n",
    "            "
   ]
  },
  {
   "cell_type": "code",
   "execution_count": 9,
   "id": "49837d6f",
   "metadata": {},
   "outputs": [],
   "source": [
    "# FILE HANDLING\n",
    "file = open('demo.pdf','w')\n",
    "file.write('python is fun to learn\\npython is cool')\n",
    "file.close()"
   ]
  },
  {
   "cell_type": "code",
   "execution_count": 12,
   "id": "e70f6066",
   "metadata": {},
   "outputs": [
    {
     "ename": "FileNotFoundError",
     "evalue": "[Errno 2] No such file or directory: 'day4.ipynb'",
     "output_type": "error",
     "traceback": [
      "\u001b[1;31m---------------------------------------------------------------------------\u001b[0m",
      "\u001b[1;31mFileNotFoundError\u001b[0m                         Traceback (most recent call last)",
      "Input \u001b[1;32mIn [12]\u001b[0m, in \u001b[0;36m<cell line: 1>\u001b[1;34m()\u001b[0m\n\u001b[1;32m----> 1\u001b[0m file \u001b[38;5;241m=\u001b[39m\u001b[38;5;28;43mopen\u001b[39;49m\u001b[43m(\u001b[49m\u001b[38;5;124;43m'\u001b[39;49m\u001b[38;5;124;43mday4.ipynb\u001b[39;49m\u001b[38;5;124;43m'\u001b[39;49m\u001b[43m,\u001b[49m\u001b[38;5;124;43m'\u001b[39;49m\u001b[38;5;124;43mr\u001b[39;49m\u001b[38;5;124;43m'\u001b[39;49m\u001b[43m)\u001b[49m\n\u001b[0;32m      2\u001b[0m \u001b[38;5;28mprint\u001b[39m(file\u001b[38;5;241m.\u001b[39mread())\n\u001b[0;32m      3\u001b[0m file\u001b[38;5;241m.\u001b[39mclose()\n",
      "\u001b[1;31mFileNotFoundError\u001b[0m: [Errno 2] No such file or directory: 'day4.ipynb'"
     ]
    }
   ],
   "source": [
    "file =open('day4.ipynb','r')\n",
    "print(file.read())\n",
    "file.close()"
   ]
  },
  {
   "cell_type": "code",
   "execution_count": 13,
   "id": "bf429d94",
   "metadata": {},
   "outputs": [],
   "source": [
    "file = open('demo.pdf','a')\n",
    "file.write('\\npython is an high level language')\n",
    "file.close()"
   ]
  },
  {
   "cell_type": "code",
   "execution_count": 15,
   "id": "3128644c",
   "metadata": {},
   "outputs": [
    {
     "name": "stdout",
     "output_type": "stream",
     "text": [
      "python is fun to learn\n",
      "python is cool\n",
      "python is an high level language\n"
     ]
    }
   ],
   "source": [
    "file = open('demo.pdf','r+')\n",
    "print(file.read())\n",
    "file.write('\\npython is an interactive environment')\n",
    "file.close()"
   ]
  },
  {
   "cell_type": "code",
   "execution_count": null,
   "id": "cbfd1006",
   "metadata": {},
   "outputs": [],
   "source": []
  }
 ],
 "metadata": {
  "kernelspec": {
   "display_name": "Python 3 (ipykernel)",
   "language": "python",
   "name": "python3"
  },
  "language_info": {
   "codemirror_mode": {
    "name": "ipython",
    "version": 3
   },
   "file_extension": ".py",
   "mimetype": "text/x-python",
   "name": "python",
   "nbconvert_exporter": "python",
   "pygments_lexer": "ipython3",
   "version": "3.9.12"
  }
 },
 "nbformat": 4,
 "nbformat_minor": 5
}
