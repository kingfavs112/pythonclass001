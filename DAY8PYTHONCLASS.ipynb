{
 "cells": [
  {
   "cell_type": "code",
   "execution_count": 4,
   "id": "1ddd8773",
   "metadata": {},
   "outputs": [
    {
     "data": {
      "text/plain": [
       "'mammal'"
      ]
     },
     "execution_count": 4,
     "metadata": {},
     "output_type": "execute_result"
    }
   ],
   "source": [
    "#CLASS\n",
    "class animal:\n",
    "    attr1 = 'mammal'\n",
    "    attr2 = 'dog'\n",
    "obj = animal()\n",
    "obj.attr1\n",
    "    "
   ]
  },
  {
   "cell_type": "code",
   "execution_count": 5,
   "id": "dfacb3d4",
   "metadata": {},
   "outputs": [
    {
     "data": {
      "text/plain": [
       "'dog'"
      ]
     },
     "execution_count": 5,
     "metadata": {},
     "output_type": "execute_result"
    }
   ],
   "source": [
    "obj.attr2"
   ]
  },
  {
   "cell_type": "code",
   "execution_count": 8,
   "id": "4dcfc393",
   "metadata": {},
   "outputs": [
    {
     "name": "stdout",
     "output_type": "stream",
     "text": [
      "I belong to the family of mammal\n"
     ]
    }
   ],
   "source": [
    "class animal:\n",
    "    attr1 = 'mammal'\n",
    "    attr2 = 'dog'\n",
    "    def family(self):\n",
    "        print(f'I belong to the family of {self.attr1}')\n",
    "    def type(self):\n",
    "        print(f'I am a {self.attr2}')\n",
    "obj = animal()\n",
    "obj.family()"
   ]
  },
  {
   "cell_type": "code",
   "execution_count": 9,
   "id": "0d4da711",
   "metadata": {},
   "outputs": [
    {
     "name": "stdout",
     "output_type": "stream",
     "text": [
      "I am a dog\n"
     ]
    }
   ],
   "source": [
    "obj.type()"
   ]
  },
  {
   "cell_type": "code",
   "execution_count": 9,
   "id": "898b5e2d",
   "metadata": {},
   "outputs": [
    {
     "name": "stdout",
     "output_type": "stream",
     "text": [
      "Lambogini mercelado has started\n"
     ]
    }
   ],
   "source": [
    "# USING CLASS AND OBJECT WRITE A CAR GAME SIMULATION HAVING FOLLOWING ATTRIBUTE (BRAND,MODEL,COLOR,YEAR,SPEED) AND THE FOLLOWING METHOD (START,GEAR,ACCELERATE,STOP) AFTER CREATE ANOTHER CLASS TO INHERIT THE ATTRIBUTE AND METHOD OF THAT CLASS\n",
    "class car_game_simulation:\n",
    "    def __init__(self,BRAND,MODEL,COLOR,YEAR,SPEED):\n",
    "        self.BRAND = BRAND\n",
    "        self.MODEL = MODEL\n",
    "        self.COLOR = COLOR\n",
    "        self.YEAR = YEAR\n",
    "        self.SPEED = SPEED\n",
    "    def start(self):\n",
    "        print(f'{self.BRAND} {self.MODEL} has started')\n",
    "    def gear(self):\n",
    "        gearoption = input('select a gear')\n",
    "        if gearoption == '1':\n",
    "            print('GEAR ONE SELECTED')   \n",
    "        elif gearoption == '2':\n",
    "            print('GEAR TWO SELECTED')     \n",
    "        elif gearoption == '3':\n",
    "            print('GEAR THREE SELECTED')\n",
    "        elif gearoption == '4':\n",
    "            print('GEAR FOUR SELECTED')\n",
    "        elif gearoption == '5':\n",
    "            print('GEAR FIVE SELECTED')\n",
    "        if gearoption == 'REV':\n",
    "            print('REVERSED GEAR SELECTED')\n",
    "    def acceleration(self,option):\n",
    "        if option == 1:\n",
    "            print('NITRO POWER ON')\n",
    "        elif option == 2:\n",
    "            print('NITRO POWER OFF')\n",
    "        else:\n",
    "            print('INVALID ACCELEARTION OPTION')\n",
    "    def stop(self):\n",
    "        print(f'BOMMMMMMMMMMMMMMMMMMMMMMMMMMMMMMMM {self.BRAND} {self.MODEL} has stopped GAME OVER')\n",
    "car1 = car_game_simulation('Audi','A6','Black',2019,450)\n",
    "car2 = car_game_simulation('Lambogini','mercelado','yellow',2022,800)\n",
    "\n",
    "car2.start()\n",
    "     \n",
    "       "
   ]
  },
  {
   "cell_type": "code",
   "execution_count": 3,
   "id": "6117791f",
   "metadata": {},
   "outputs": [
    {
     "name": "stdout",
     "output_type": "stream",
     "text": [
      "ROOF OPEN\n"
     ]
    }
   ],
   "source": [
    "class newcar(car_game_simulation):\n",
    "    def openroof(self,option):\n",
    "        if option == 1:\n",
    "            print('ROOF OPEN')\n",
    "        elif option == 2:\n",
    "            print('ROOF CLOSED')\n",
    "        else:\n",
    "            print('INVALID ROOF OPTION')\n",
    "car3 = newcar('Benz','Moral','Naval Blue',2022,850)\n",
    "car3.openroof(1)\n",
    "    "
   ]
  },
  {
   "cell_type": "code",
   "execution_count": null,
   "id": "a68be965",
   "metadata": {},
   "outputs": [],
   "source": [
    "# CREATE A CLASS BMI WITH THE FOLLOWING ATTRIBUTE [name,gender,country,continent,height,weight,] HAVING THE FOLLOWING METHOD\n",
    "class Body_mass_index:\n",
    "     def __init__(self,NAME,GENDER,COUNTRY,CONTINENT,HEIGHT,WEIGHT):\n",
    "        self.NAME = NAME\n",
    "        self.GENDER = GENDER\n",
    "        self.COUNTRY = COUNTRY\n",
    "        self.CONTINENT = CONTINENT\n",
    "        self.HEIGHT = HEIGHT\n",
    "        self.WEIGHT = WEIGHT\n"
   ]
  }
 ],
 "metadata": {
  "kernelspec": {
   "display_name": "Python 3 (ipykernel)",
   "language": "python",
   "name": "python3"
  },
  "language_info": {
   "codemirror_mode": {
    "name": "ipython",
    "version": 3
   },
   "file_extension": ".py",
   "mimetype": "text/x-python",
   "name": "python",
   "nbconvert_exporter": "python",
   "pygments_lexer": "ipython3",
   "version": "3.9.12"
  }
 },
 "nbformat": 4,
 "nbformat_minor": 5
}
