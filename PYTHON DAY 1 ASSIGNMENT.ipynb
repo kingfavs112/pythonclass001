{
 "cells": [
  {
   "cell_type": "code",
   "execution_count": 1,
   "id": "12fd4a69",
   "metadata": {},
   "outputs": [
    {
     "name": "stdout",
     "output_type": "stream",
     "text": [
      "MY NAME IS JAMES\n"
     ]
    }
   ],
   "source": [
    "# python program using print function \n",
    "word = \"MY NAME IS JAMES\"\n",
    "print(word)"
   ]
  },
  {
   "cell_type": "code",
   "execution_count": 3,
   "id": "60588f14",
   "metadata": {
    "scrolled": true
   },
   "outputs": [
    {
     "name": "stdout",
     "output_type": "stream",
     "text": [
      "STAR LIGHT\n",
      "STAR BRIGHT\n",
      "THE FIRST STAR\n",
      "I SEE TONIGHT\n"
     ]
    }
   ],
   "source": [
    "# python program using multiline string \n",
    "# TO display a poem in upper case\n",
    "word1 = ('star light')\n",
    "word2 = ('star bright')\n",
    "word3 = ('the first star')\n",
    "word4 = ('i see tonight')\n",
    "print(word1.upper())\n",
    "print(word2.upper())\n",
    "print(word3.upper())\n",
    "print(word4.upper())"
   ]
  },
  {
   "cell_type": "code",
   "execution_count": 3,
   "id": "81c15a73",
   "metadata": {},
   "outputs": [
    {
     "name": "stdout",
     "output_type": "stream",
     "text": [
      "i have 1000 dollars, so i can buy 3 football for 40 dollars.\n"
     ]
    }
   ],
   "source": [
    "# program using string format to format the following variable\n",
    "#ITEMS\n",
    "TotalMoney=1000\n",
    "Quantity=3\n",
    "Price=450\n",
    "word = 'i have {} dollars, so i can buy {} football for {} dollars.'\n",
    "print(word.format('1000','3','40'))\n",
    "\n"
   ]
  },
  {
   "cell_type": "code",
   "execution_count": 10,
   "id": "540957b8",
   "metadata": {},
   "outputs": [
    {
     "name": "stdout",
     "output_type": "stream",
     "text": [
      "am from a well-known village with good culture in kogi state\n"
     ]
    }
   ],
   "source": [
    "# program using decleared variable to hold statement\n",
    "state = 'am from a well-known village with good culture in kogi state' \n",
    "print(state)"
   ]
  },
  {
   "cell_type": "code",
   "execution_count": null,
   "id": "d22456c5",
   "metadata": {},
   "outputs": [],
   "source": []
  }
 ],
 "metadata": {
  "kernelspec": {
   "display_name": "Python 3 (ipykernel)",
   "language": "python",
   "name": "python3"
  },
  "language_info": {
   "codemirror_mode": {
    "name": "ipython",
    "version": 3
   },
   "file_extension": ".py",
   "mimetype": "text/x-python",
   "name": "python",
   "nbconvert_exporter": "python",
   "pygments_lexer": "ipython3",
   "version": "3.9.12"
  }
 },
 "nbformat": 4,
 "nbformat_minor": 5
}
