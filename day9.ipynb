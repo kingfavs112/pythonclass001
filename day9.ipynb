{
 "cells": [
  {
   "cell_type": "code",
   "execution_count": 3,
   "metadata": {},
   "outputs": [
    {
     "name": "stdout",
     "output_type": "stream",
     "text": [
      "45 + 8 = 53\n"
     ]
    }
   ],
   "source": [
    "try:\n",
    "    num1 = int(input('Please provide first number:'))\n",
    "    num2 = int(input('Please provide the second number:'))\n",
    "    operation = input('PLEASE PICK YOUR DESIRED OPERATION [+, -, *, /]:')\n",
    "    if operation == '+':\n",
    "        print(f'{num1} + {num2} = {num1 + num2}')\n",
    "    elif operation == '-':\n",
    "        print(f'{num1} - {num2} = {num1 - num2}')\n",
    "    elif operation == '*':\n",
    "        print(f'{num1} x {num2} = {num1 * num2}')\n",
    "    elif operation == '/':\n",
    "        print(f'{num1} / {num2} = {num1 / num2}')\n",
    "    else:\n",
    "        print('invalide operation')\n",
    "except:\n",
    "    print('You have encountered one or more errors')"
   ]
  },
  {
   "cell_type": "code",
   "execution_count": 9,
   "metadata": {},
   "outputs": [
    {
     "name": "stdout",
     "output_type": "stream",
     "text": [
      "10 + 2 = 12\n",
      "1\n",
      "End of program\n"
     ]
    }
   ],
   "source": [
    "try:\n",
    "    num1 = int(input('Please provide first number:'))\n",
    "    num2 = int(input('Please provide the second number:'))\n",
    "    operation = input('PLEASE PICK YOUR DESIRED OPERATION [+, -, *, /]:')\n",
    "    if operation == '+':\n",
    "        print(f'{num1} + {num2} = {num1 + num2}')\n",
    "    elif operation == '-':\n",
    "        print(f'{num1} - {num2} = {num1 - num2}')\n",
    "    elif operation == '*':\n",
    "        print(f'{num1} x {num2} = {num1 * num2}')\n",
    "    elif operation == '/':\n",
    "        print(f'{num1} / {num2} = {num1 / num2}')\n",
    "    else:\n",
    "        print('invalide operation')\n",
    "except ValueError:\n",
    "    print('You have entered a wrong value, whole number expected')\n",
    "except ZeroDivisionError:\n",
    "    print('Sorry you cannot divide a number by zero')\n",
    "except:\n",
    "    print('You have encountered one or more errors')\n",
    "else:\n",
    "    print((num1 ** num2)//100)\n",
    "finally:\n",
    "    print('End of program')"
   ]
  },
  {
   "cell_type": "code",
   "execution_count": null,
   "metadata": {},
   "outputs": [],
   "source": [
    "#A MALL HAS 5 FLOORS AND A GROUND FLOOR HAVING 3 SHOPS EACH USING ERROR HANDLING TOOLS WRITE A PYTHON PROGRAM TO NAVIGATE THROUGH EACH FLOOR AND EACH SHOP \n",
    "#HANDLE THE FOLLOWING ERRORS\n",
    "# VALUEERROR AND INDENTATIONERROR\n",
    "\n",
    "#STOP BY 1.30"
   ]
  },
  {
   "cell_type": "code",
   "execution_count": 1,
   "metadata": {},
   "outputs": [
    {
     "name": "stdout",
     "output_type": "stream",
     "text": [
      "WELCOME TO GRAND GREEN MALL\n",
      "___________________LIFT OPTION____________________\n",
      "1: FIRST FLOOR :::[SHOP1:GREEN AVENUE COMPUTER TRAINING INSTITUTE, SHOP2:KIDS MATTER,SHOP3:IP COMPUTER AND PHONES]\n",
      "2: SECOND FLOOR :::[SHOP1:PRIME MEDICAL CONSULTANT, SHOP2:BRIGHT WEARS,SHOP3:YOUNG SPA]\n",
      "3: THIRD FLOOR  :::[SHOP1:METTY  UNISEX SALON, SHOP2:TRAVEL BETA,SHOP3:OPTIMAL CYBER CAFE]\n",
      "4: FOUTH FLOOR :::[SHOP1:ADE UNISEX BAGS, SHOP2:MAJOR REAL ESTATE,SHOP3:MR LUNG COMPUTER AND PHONES ACCESSORIES]\n",
      "5: FIFTH FLOOR :::[SHOP1:HERMOND LABORATORY, SHOP2:ULESSON BRANCH OFFICE,SHOP3:LOUNGE ]\n",
      "GF: GROUND FLOOR :::[SHOP1:ERNEST SUPERMARKET, SHOP2:GRAND VIEW WEARS,SHOP3:SHAWAMA SPOT]\n",
      "\n",
      "PLEASE PRESS THE BUTTON TO YOUR DESIRED FLOOR1\n",
      "POM POM FIRST FLOOR\n",
      "TURN RIGHT TO SHOP1, TURN LEFT TO SHOP2, MOVE FORWARD TO SHOP3\n",
      "END OF PROGRAM\n"
     ]
    }
   ],
   "source": [
    "try:\n",
    "    print('WELCOME TO GRAND GREEN MALL')\n",
    "    print('''___________________LIFT OPTION____________________\n",
    "1: FIRST FLOOR :::[SHOP1:GREEN AVENUE COMPUTER TRAINING INSTITUTE, SHOP2:KIDS MATTER,SHOP3:IP COMPUTER AND PHONES]\n",
    "2: SECOND FLOOR :::[SHOP1:PRIME MEDICAL CONSULTANT, SHOP2:BRIGHT WEARS,SHOP3:YOUNG SPA]\n",
    "3: THIRD FLOOR  :::[SHOP1:METTY  UNISEX SALON, SHOP2:TRAVEL BETA,SHOP3:OPTIMAL CYBER CAFE]\n",
    "4: FOUTH FLOOR :::[SHOP1:ADE UNISEX BAGS, SHOP2:MAJOR REAL ESTATE,SHOP3:MR LUNG COMPUTER AND PHONES ACCESSORIES]\n",
    "5: FIFTH FLOOR :::[SHOP1:HERMOND LABORATORY, SHOP2:ULESSON BRANCH OFFICE,SHOP3:LOUNGE ]\n",
    "GF: GROUND FLOOR :::[SHOP1:ERNEST SUPERMARKET, SHOP2:GRAND VIEW WEARS,SHOP3:SHAWAMA SPOT]\n",
    "''')\n",
    "    floor_option = input('PLEASE PRESS THE BUTTON TO YOUR DESIRED FLOOR')\n",
    "    if floor_option == '1':\n",
    "        print('POM POM FIRST FLOOR')\n",
    "        print('TURN RIGHT TO SHOP1, TURN LEFT TO SHOP2, MOVE FORWARD TO SHOP3')\n",
    "    elif floor_option == '2':\n",
    "        print('POM POM SECOND FLOOR')\n",
    "        print('TURN RIGHT TO SHOP1, TURN LEFT TO SHOP2, MOVE FORWARD TO SHOP3')\n",
    "    elif floor_option == '3':\n",
    "        print('POM POM THIRD FLOOR')\n",
    "        print('TURN RIGHT TO SHOP1, TURN LEFT TO SHOP2, MOVE FORWARD TO SHOP3')\n",
    "    elif floor_option == '4':\n",
    "        print('POM POM FOUTH FLOOR')\n",
    "        print('TURN RIGHT TO SHOP1, TURN LEFT TO SHOP2, MOVE FORWARD TO SHOP3')\n",
    "    elif floor_option == '5':\n",
    "        print('POM POM FIFTH FLOOR')\n",
    "        print('TURN RIGHT TO SHOP1, TURN LEFT TO SHOP2, MOVE FORWARD TO SHOP3')\n",
    "    elif floor_option == 'GFR':\n",
    "        print('POM POM GROUND FLOOR')\n",
    "        print('TURN RIGHT TO SHOP1, TURN LEFT TO SHOP2, MOVE FORWARD TO SHOP3')\n",
    "    else:\n",
    "        print('INVALID FLOOR OPTION')\n",
    "except ValueError:\n",
    "    print('String values is required')\n",
    "except IndentationError:\n",
    "    print('Your Program is not well aligned')\n",
    "except:\n",
    "    print('You have Encountered one or more errors')\n",
    "finally:\n",
    "    print('END OF PROGRAM')\n",
    "\n",
    "\n",
    "\n",
    "\n",
    "\n"
   ]
  },
  {
   "cell_type": "code",
   "execution_count": null,
   "metadata": {},
   "outputs": [],
   "source": []
  }
 ],
 "metadata": {
  "kernelspec": {
   "display_name": "Python 3 (ipykernel)",
   "language": "python",
   "name": "python3"
  },
  "language_info": {
   "codemirror_mode": {
    "name": "ipython",
    "version": 3
   },
   "file_extension": ".py",
   "mimetype": "text/x-python",
   "name": "python",
   "nbconvert_exporter": "python",
   "pygments_lexer": "ipython3",
   "version": "3.9.12"
  },
  "vscode": {
   "interpreter": {
    "hash": "97a318a1c10ea3cad32b5f740e8bef65bce9a717407c951d39899fa160feabd9"
   }
  }
 },
 "nbformat": 4,
 "nbformat_minor": 2
}
