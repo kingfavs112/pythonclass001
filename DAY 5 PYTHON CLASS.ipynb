{
 "cells": [
  {
   "cell_type": "code",
   "execution_count": 1,
   "id": "580d1cbe",
   "metadata": {},
   "outputs": [
    {
     "name": "stdout",
     "output_type": "stream",
     "text": [
      "pppp\n",
      "yyyy\n",
      "tttt\n",
      "hhhh\n",
      "oooo\n",
      "nnnn\n"
     ]
    }
   ],
   "source": [
    "# LOOPS \n",
    "word = 'python'\n",
    "for x in word:\n",
    "    print(x * 4,)"
   ]
  },
  {
   "cell_type": "code",
   "execution_count": 6,
   "id": "56401e7b",
   "metadata": {},
   "outputs": [
    {
     "name": "stdout",
     "output_type": "stream",
     "text": [
      "pppp/yyyy/tttt/hhhh/oooo/nnnn/"
     ]
    }
   ],
   "source": [
    "word = 'python'\n",
    "for x in word:\n",
    "    print(x * 4,end='/')"
   ]
  },
  {
   "cell_type": "code",
   "execution_count": 7,
   "id": "af1c0baf",
   "metadata": {},
   "outputs": [
    {
     "name": "stdout",
     "output_type": "stream",
     "text": [
      "Dear Ade this is for your kind reminder that our python class starts next week monday,12 noon\n",
      "Dear Ojo this is for your kind reminder that our python class starts next week monday,12 noon\n",
      "Dear Banke this is for your kind reminder that our python class starts next week monday,12 noon\n",
      "Dear Samuel this is for your kind reminder that our python class starts next week monday,12 noon\n",
      "Dear Baklely this is for your kind reminder that our python class starts next week monday,12 noon\n"
     ]
    }
   ],
   "source": [
    "# FOR LOOP(LISTS)\n",
    "names = ['Ade','Ojo','Banke','Samuel','Baklely']\n",
    "for name in names:\n",
    "    print(f'Dear {name} this is for your kind reminder that our python class starts next week monday,12 noon')"
   ]
  },
  {
   "cell_type": "code",
   "execution_count": 9,
   "id": "8c1f9cda",
   "metadata": {},
   "outputs": [
    {
     "name": "stdout",
     "output_type": "stream",
     "text": [
      "REG001/45 ::: {'Name': 'Mattew obafemi', 'Mathscore': 85, 'Englishscore': 75, 'Physicsscore': 60, 'chemistryscore': 80}\n",
      "REG002/45 ::: {'Name': 'Janet Akpan', 'Mathscore': 78, 'Englishscore': 55, 'Physicsscore': 80, 'chemistryscore': 79}\n",
      "REG003/45 ::: {'Name': 'Obot james', 'Mathscore': 80, 'Englishscore': 66, 'Physicsscore': 50, 'chemistryscore': 80}\n",
      "REG004/45 ::: {'Name': 'Blessing lawal', 'Mathscore': 65, 'Englishscore': 80, 'Physicsscore': 100, 'chemistryscore': 86}\n"
     ]
    }
   ],
   "source": [
    "# FOR LOOP (DIR)\n",
    "Jamb_database ={ \n",
    "     'REG001/45':{'Name':'Mattew obafemi','Mathscore':85,'Englishscore':75,'Physicsscore':60,'chemistryscore':80},\n",
    "     'REG002/45':{'Name':'Janet Akpan','Mathscore':78,'Englishscore':55,'Physicsscore':80,'chemistryscore':79},\n",
    "     'REG003/45':{'Name':'Obot james','Mathscore':80,'Englishscore':66,'Physicsscore':50,'chemistryscore':80},\n",
    "     'REG004/45':{'Name':'Blessing lawal','Mathscore':65,'Englishscore':80,'Physicsscore':100,'chemistryscore':86}\n",
    "}\n",
    "for key,value in Jamb_database.items():\n",
    "    print(f'{key} ::: {value}')"
   ]
  },
  {
   "cell_type": "code",
   "execution_count": 14,
   "id": "2179b842",
   "metadata": {},
   "outputs": [
    {
     "name": "stdout",
     "output_type": "stream",
     "text": [
      "PLEASE PROVIDE YOUR REGISTRATION NUMBER:REG004/45\n",
      "Congratulations your details are as follows {'Name': 'Blessing lawal', 'Mathscore': 65, 'Englishscore': 80, 'Physicsscore': 100, 'chemistryscore': 86}\n"
     ]
    }
   ],
   "source": [
    "Jamb_database ={ \n",
    "     'REG001/45':{'Name':'Mattew obafemi','Mathscore':85,'Englishscore':75,'Physicsscore':60,'chemistryscore':80},\n",
    "     'REG002/45':{'Name':'Janet Akpan','Mathscore':78,'Englishscore':55,'Physicsscore':80,'chemistryscore':79},\n",
    "     'REG003/45':{'Name':'Obot james','Mathscore':80,'Englishscore':66,'Physicsscore':50,'chemistryscore':80},\n",
    "     'REG004/45':{'Name':'Blessing lawal','Mathscore':65,'Englishscore':80,'Physicsscore':100,'chemistryscore':86}\n",
    "}\n",
    "registration_number = input('PLEASE PROVIDE YOUR REGISTRATION NUMBER:')\n",
    "for key in Jamb_database:\n",
    "    if key == registration_number:\n",
    "        print(f'Congratulations your details are as follows {Jamb_database[key]}')\n",
    "        break\n",
    "else:\n",
    "    print('RECORD NOT FOUND')"
   ]
  },
  {
   "cell_type": "code",
   "execution_count": null,
   "id": "29cda36a",
   "metadata": {},
   "outputs": [],
   "source": [
    "# WHILE LOOP\n",
    "\n"
   ]
  }
 ],
 "metadata": {
  "kernelspec": {
   "display_name": "Python 3 (ipykernel)",
   "language": "python",
   "name": "python3"
  },
  "language_info": {
   "codemirror_mode": {
    "name": "ipython",
    "version": 3
   },
   "file_extension": ".py",
   "mimetype": "text/x-python",
   "name": "python",
   "nbconvert_exporter": "python",
   "pygments_lexer": "ipython3",
   "version": "3.9.12"
  }
 },
 "nbformat": 4,
 "nbformat_minor": 5
}
