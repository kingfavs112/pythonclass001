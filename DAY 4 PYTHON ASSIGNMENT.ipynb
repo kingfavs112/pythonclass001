{
 "cells": [
  {
   "cell_type": "code",
   "execution_count": 36,
   "id": "b388cd50",
   "metadata": {},
   "outputs": [
    {
     "name": "stdout",
     "output_type": "stream",
     "text": [
      "enter your first number:50\n",
      "enter your second number:50\n",
      "both numbers are equal\n"
     ]
    }
   ],
   "source": [
    "# PROGRAM TO FIND THE GREATEST AMONG VALUES\n",
    "num1 = int(input('enter your first number:'))\n",
    "num2 = int(input('enter your second number:'))\n",
    "if num1>num2:\n",
    "    print('first number is greater than second number')\n",
    "if num1<num2:\n",
    "        print('second number is greater than first number')\n",
    "if num1==num2:\n",
    "    print('both numbers are equal')   "
   ]
  },
  {
   "cell_type": "code",
   "execution_count": 6,
   "id": "a24e325e",
   "metadata": {},
   "outputs": [
    {
     "name": "stdout",
     "output_type": "stream",
     "text": [
      "ENTER YOUR AGE 1:20\n",
      "ENTER YOUR AGE 2:50\n",
      "ENTER YOUR AGE 3:10\n",
      "AGE 2 IS THE OLDEST\n",
      "AGE 3 IS THE YOUNGEST\n"
     ]
    }
   ],
   "source": [
    "#PROGRAMM TO DETERMINE THE OLDEST AND YOUNGEST AMONG 3 PEOPLE\n",
    "age1 = int(input('ENTER YOUR AGE 1:'))\n",
    "age2 = int(input('ENTER YOUR AGE 2:'))\n",
    "age3 = int(input('ENTER YOUR AGE 3:'))\n",
    "if age1>age2 and age1>age3:\n",
    "    print('AGE 1 IS THE OLDEST')\n",
    "elif age2>age1 and age2>age3:\n",
    "    print('AGE 2 IS THE OLDEST')\n",
    "else:\n",
    "    print('AGE 3 IS THE OLDEST')\n",
    "if age1<age2 and age1<age3:\n",
    "    print('AGE 1 IS THE YOUNGEST')\n",
    "elif age2<age1 and age2<age3:\n",
    "    print('AGE 2 IS THE YOUNGEST')\n",
    "else:\n",
    "    print('AGE 3 IS THE YOUNGEST')\n",
    "    "
   ]
  },
  {
   "cell_type": "code",
   "execution_count": 6,
   "id": "491fadb7",
   "metadata": {},
   "outputs": [
    {
     "name": "stdout",
     "output_type": "stream",
     "text": [
      "ENTER YOUR SALARY: 5000\n",
      "ENTER YOUR YEAR OF SERVICE: 6\n",
      "your salary(+Bonus)= 5250.0\n"
     ]
    }
   ],
   "source": [
    "#PROGRAM TO CALCULATE NET BONUS AMOUNT\n",
    "Salary = int(input('ENTER YOUR SALARY: '))\n",
    "Service_Year = int(input('ENTER YOUR YEAR OF SERVICE: '))\n",
    "if Service_Year>5:\n",
    "    print('your salary(+Bonus)=',Salary + (Salary)*5/100)\n",
    "else:\n",
    "    print('NOT ELIGIBLE FOR BOUNS DUE TO LOW SERVICE YEAR')"
   ]
  },
  {
   "cell_type": "code",
   "execution_count": 15,
   "id": "e2cc58ce",
   "metadata": {},
   "outputs": [
    {
     "name": "stdout",
     "output_type": "stream",
     "text": [
      "age:\n",
      "45\n",
      "gender: M or F\n",
      "M\n",
      "marital status: Y or N\n",
      "Y\n",
      "age:- 45\n",
      "gender:- M\n",
      "marital status:- Y\n",
      "YOU WORK IN URBAN AREAS\n"
     ]
    }
   ],
   "source": [
    "# PROGRAM TO PRINT USERS PLACE OF SERVICE\n",
    "print('age:')\n",
    "age = int(input())\n",
    "print('gender: M or F')\n",
    "gender = input()\n",
    "print('marital status: Y or N')\n",
    "marital_status = input()\n",
    "print('age:-', age)\n",
    "print('gender:-', gender)\n",
    "print('marital status:-', marital_status)\n",
    "if gender == 'F':\n",
    "    print('YOU WILL WORK ONLY IN URBAN AREAS')\n",
    "if gender == 'M':\n",
    "    if age > 20 and age < 40:\n",
    "        print('YOU MAY WORK IN ANYWHERE')\n",
    "if gender == 'M':\n",
    "    if age > 40 and age < 60:\n",
    "        print('YOU WORK IN URBAN AREAS')\n",
    "else:\n",
    "    print('ERROR')\n",
    "            \n",
    "       "
   ]
  },
  {
   "cell_type": "code",
   "execution_count": 33,
   "id": "6db9e82b",
   "metadata": {},
   "outputs": [
    {
     "name": "stdout",
     "output_type": "stream",
     "text": [
      "Held classes:50\n",
      "Attended classes:45\n",
      "YOU WILL BE ALLOWED TO SIT IN EXAM\n"
     ]
    }
   ],
   "source": [
    "# PROGRAM TO RECORD CLASS PERCENTAGE OF CLASS ATTENDANCE\n",
    "num_class_held = int(input('Held classes:'))\n",
    "num_class_attend = int(input('Attended classes:'))\n",
    "percent=(num_class_attend/num_class_held)*100\n",
    "if percent<75:\n",
    "    print('YOU WILL NOT BE ALLOWED TO SIT IN EXAM')\n",
    "else:\n",
    "    print('YOU WILL BE ALLOWED TO SIT IN EXAM')"
   ]
  },
  {
   "cell_type": "code",
   "execution_count": null,
   "id": "74160976",
   "metadata": {},
   "outputs": [],
   "source": []
  }
 ],
 "metadata": {
  "kernelspec": {
   "display_name": "Python 3 (ipykernel)",
   "language": "python",
   "name": "python3"
  },
  "language_info": {
   "codemirror_mode": {
    "name": "ipython",
    "version": 3
   },
   "file_extension": ".py",
   "mimetype": "text/x-python",
   "name": "python",
   "nbconvert_exporter": "python",
   "pygments_lexer": "ipython3",
   "version": "3.9.12"
  }
 },
 "nbformat": 4,
 "nbformat_minor": 5
}
