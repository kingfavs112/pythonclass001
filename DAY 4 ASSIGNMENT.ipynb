{
 "cells": [
  {
   "cell_type": "code",
   "execution_count": 3,
   "id": "b3fdbdba",
   "metadata": {},
   "outputs": [
    {
     "name": "stdout",
     "output_type": "stream",
     "text": [
      "Enter your height in cm: 1.76\n",
      "Enter your weight in kg: 65\n",
      "your BMI is 20.983987603305785\n",
      "HEALTHY\n"
     ]
    }
   ],
   "source": [
    "#WRITE A FUNCTION TO BUILD A BODY MASS INDEX [BMI] CALCULATOR\n",
    "def BMI():\n",
    "    \n",
    "    Height = float(input('Enter your height in m: '))\n",
    "    Weight = float(input('Enter your weight in kg: '))\n",
    "    bmi = Weight/(Height**2)\n",
    "    print(f'your BMI is {bmi}')\n",
    "    if (bmi < 18.5):\n",
    "        print('UNDERWEIGHT')\n",
    "    elif (bmi >= 18.5 and bmi < 24.9):\n",
    "        print('HEALTHY')\n",
    "    elif (bmi >= 24.9 and bmi < 30):\n",
    "        print('OVERWEIGHT')\n",
    "    elif (bmi >=30):\n",
    "        print('SUFFERING FROM OBESITY')\n",
    "BMI()"
   ]
  },
  {
   "cell_type": "code",
   "execution_count": null,
   "id": "7111e972",
   "metadata": {},
   "outputs": [],
   "source": []
  },
  {
   "cell_type": "code",
   "execution_count": null,
   "id": "11862070",
   "metadata": {},
   "outputs": [],
   "source": []
  }
 ],
 "metadata": {
  "kernelspec": {
   "display_name": "Python 3 (ipykernel)",
   "language": "python",
   "name": "python3"
  },
  "language_info": {
   "codemirror_mode": {
    "name": "ipython",
    "version": 3
   },
   "file_extension": ".py",
   "mimetype": "text/x-python",
   "name": "python",
   "nbconvert_exporter": "python",
   "pygments_lexer": "ipython3",
   "version": "3.9.12"
  }
 },
 "nbformat": 4,
 "nbformat_minor": 5
}
