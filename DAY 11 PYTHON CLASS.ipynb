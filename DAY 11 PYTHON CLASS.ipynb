{
 "cells": [
  {
   "cell_type": "code",
   "execution_count": 1,
   "id": "2ba48d25",
   "metadata": {},
   "outputs": [],
   "source": [
    "# DATE AND TIME\n",
    "#DATE\n",
    "import datetime"
   ]
  },
  {
   "cell_type": "code",
   "execution_count": 4,
   "id": "0b6ef3e1",
   "metadata": {},
   "outputs": [
    {
     "data": {
      "text/plain": [
       "datetime.date(2022, 6, 25)"
      ]
     },
     "execution_count": 4,
     "metadata": {},
     "output_type": "execute_result"
    }
   ],
   "source": [
    "mydate = datetime.date(2022,6,25)\n",
    "mydate"
   ]
  },
  {
   "cell_type": "code",
   "execution_count": 5,
   "id": "a01fd93e",
   "metadata": {},
   "outputs": [
    {
     "data": {
      "text/plain": [
       "datetime.date"
      ]
     },
     "execution_count": 5,
     "metadata": {},
     "output_type": "execute_result"
    }
   ],
   "source": [
    "type(mydate)"
   ]
  },
  {
   "cell_type": "code",
   "execution_count": 6,
   "id": "d2a6063d",
   "metadata": {},
   "outputs": [
    {
     "data": {
      "text/plain": [
       "2022"
      ]
     },
     "execution_count": 6,
     "metadata": {},
     "output_type": "execute_result"
    }
   ],
   "source": [
    "mydate.year"
   ]
  },
  {
   "cell_type": "code",
   "execution_count": 7,
   "id": "83c890c3",
   "metadata": {},
   "outputs": [
    {
     "data": {
      "text/plain": [
       "6"
      ]
     },
     "execution_count": 7,
     "metadata": {},
     "output_type": "execute_result"
    }
   ],
   "source": [
    "mydate.month"
   ]
  },
  {
   "cell_type": "code",
   "execution_count": 8,
   "id": "3a3676f7",
   "metadata": {},
   "outputs": [
    {
     "data": {
      "text/plain": [
       "25"
      ]
     },
     "execution_count": 8,
     "metadata": {},
     "output_type": "execute_result"
    }
   ],
   "source": [
    "mydate.day"
   ]
  },
  {
   "cell_type": "code",
   "execution_count": 9,
   "id": "89d17687",
   "metadata": {},
   "outputs": [
    {
     "data": {
      "text/plain": [
       "5"
      ]
     },
     "execution_count": 9,
     "metadata": {},
     "output_type": "execute_result"
    }
   ],
   "source": [
    "mydate.weekday()"
   ]
  },
  {
   "cell_type": "code",
   "execution_count": 10,
   "id": "a9375420",
   "metadata": {},
   "outputs": [
    {
     "data": {
      "text/plain": [
       "datetime.date(2022, 10, 12)"
      ]
     },
     "execution_count": 10,
     "metadata": {},
     "output_type": "execute_result"
    }
   ],
   "source": [
    "#strfttime:this used for the modification of date and time\n",
    "currentdate = datetime.date.today()\n",
    "currentdate"
   ]
  },
  {
   "cell_type": "code",
   "execution_count": 20,
   "id": "dfd69429",
   "metadata": {},
   "outputs": [
    {
     "data": {
      "text/plain": [
       "datetime.time(12, 45, 40, 485858)"
      ]
     },
     "execution_count": 20,
     "metadata": {},
     "output_type": "execute_result"
    }
   ],
   "source": [
    "mytime = datetime.time(12,45,40,485858)\n",
    "mytime"
   ]
  },
  {
   "cell_type": "code",
   "execution_count": 21,
   "id": "e9107321",
   "metadata": {},
   "outputs": [
    {
     "data": {
      "text/plain": [
       "datetime.time(12, 50, 24, 81939)"
      ]
     },
     "execution_count": 21,
     "metadata": {},
     "output_type": "execute_result"
    }
   ],
   "source": [
    "currenttime = datetime.datetime.now().time()\n",
    "currenttime"
   ]
  },
  {
   "cell_type": "code",
   "execution_count": null,
   "id": "a40ca592",
   "metadata": {},
   "outputs": [],
   "source": [
    "# H will return time in 24 hours format\n",
    "# I will return time in 12 hours format\n",
    "# p will return time in  post meridian and anti meridian\n"
   ]
  },
  {
   "cell_type": "code",
   "execution_count": 22,
   "id": "6cd1ec1a",
   "metadata": {},
   "outputs": [
    {
     "data": {
      "text/plain": [
       "'12:50:24 PM'"
      ]
     },
     "execution_count": 22,
     "metadata": {},
     "output_type": "execute_result"
    }
   ],
   "source": [
    "currenttime.strftime('%r')"
   ]
  },
  {
   "cell_type": "code",
   "execution_count": 23,
   "id": "e3d5b8f4",
   "metadata": {},
   "outputs": [
    {
     "data": {
      "text/plain": [
       "datetime.datetime(2022, 10, 12, 12, 50, 35, 311772)"
      ]
     },
     "execution_count": 23,
     "metadata": {},
     "output_type": "execute_result"
    }
   ],
   "source": [
    "current_date_time = datetime.datetime.now()\n",
    "current_date_time"
   ]
  },
  {
   "cell_type": "code",
   "execution_count": 24,
   "id": "3ed7945d",
   "metadata": {},
   "outputs": [
    {
     "data": {
      "text/plain": [
       "'Wed Oct 12 12:50:35 2022'"
      ]
     },
     "execution_count": 24,
     "metadata": {},
     "output_type": "execute_result"
    }
   ],
   "source": [
    "current_date_time.strftime('%c')"
   ]
  },
  {
   "cell_type": "code",
   "execution_count": 26,
   "id": "c08a4638",
   "metadata": {},
   "outputs": [
    {
     "data": {
      "text/plain": [
       "'3'"
      ]
     },
     "execution_count": 26,
     "metadata": {},
     "output_type": "execute_result"
    }
   ],
   "source": [
    "current_date_time.strftime('%u')"
   ]
  },
  {
   "cell_type": "code",
   "execution_count": 31,
   "id": "ca45bf96",
   "metadata": {},
   "outputs": [
    {
     "name": "stdout",
     "output_type": "stream",
     "text": [
      "please provide your date in this format (dd/mm/yy)12/10/2022\n",
      "2022-10-12\n"
     ]
    }
   ],
   "source": [
    "#STRPTIME\n",
    "strdate = input('please provide your date in this format (dd/mm/yy)')\n",
    "condate = datetime.datetime.strptime(strdate,'%d/%m/%Y').date()\n",
    "print(condate)"
   ]
  },
  {
   "cell_type": "code",
   "execution_count": 33,
   "id": "ac089043",
   "metadata": {},
   "outputs": [
    {
     "data": {
      "text/plain": [
       "datetime.timedelta(days=109)"
      ]
     },
     "execution_count": 33,
     "metadata": {},
     "output_type": "execute_result"
    }
   ],
   "source": [
    "#TIME DELTA:difference between two dates and time\n",
    "currentdate - mydate"
   ]
  },
  {
   "cell_type": "code",
   "execution_count": 35,
   "id": "0d558dbb",
   "metadata": {},
   "outputs": [
    {
     "data": {
      "text/plain": [
       "datetime.datetime(2024, 2, 24, 12, 50, 35, 311772)"
      ]
     },
     "execution_count": 35,
     "metadata": {},
     "output_type": "execute_result"
    }
   ],
   "source": [
    "current_date_time + datetime.timedelta(days=500)"
   ]
  },
  {
   "cell_type": "code",
   "execution_count": 36,
   "id": "a75af0a9",
   "metadata": {},
   "outputs": [
    {
     "data": {
      "text/plain": [
       "datetime.datetime(2021, 5, 30, 12, 50, 35, 311772)"
      ]
     },
     "execution_count": 36,
     "metadata": {},
     "output_type": "execute_result"
    }
   ],
   "source": [
    "current_date_time - datetime.timedelta(days=500)"
   ]
  },
  {
   "cell_type": "code",
   "execution_count": 38,
   "id": "9ddc5c15",
   "metadata": {},
   "outputs": [
    {
     "data": {
      "text/plain": [
       "datetime.datetime(2022, 11, 2, 8, 50, 35, 311772)"
      ]
     },
     "execution_count": 38,
     "metadata": {},
     "output_type": "execute_result"
    }
   ],
   "source": [
    "current_date_time + datetime.timedelta(hours=500)"
   ]
  },
  {
   "cell_type": "code",
   "execution_count": 41,
   "id": "10da6667",
   "metadata": {},
   "outputs": [
    {
     "data": {
      "text/plain": [
       "datetime.datetime(2032, 5, 12, 12, 50, 35, 311772)"
      ]
     },
     "execution_count": 41,
     "metadata": {},
     "output_type": "execute_result"
    }
   ],
   "source": [
    "current_date_time + datetime.timedelta(weeks=500)"
   ]
  },
  {
   "cell_type": "code",
   "execution_count": 52,
   "id": "42ca2ae6",
   "metadata": {},
   "outputs": [
    {
     "name": "stdout",
     "output_type": "stream",
     "text": [
      "please provide your days in this format(dd/mm/yy):24/12/2023\n",
      "you have 62 weeks and 4 days until your appiontment\n"
     ]
    }
   ],
   "source": [
    "# WRITE A PROGRAM TO RETURN HOW MANY WEEKS AND DAYS A USER HAVE UNTIL AN APPIONTMENT FROM THE CURRENT DATE\n",
    "strappdate = input('please provide your days in this format(dd/mm/yy):')\n",
    "appionmentdate = datetime.datetime.strptime(strappdate,'%d/%m/%Y').date()\n",
    "currentdate = datetime.date.today()\n",
    "outcome = appionmentdate - currentdate\n",
    "Totalweeks = outcome.days // 7\n",
    "Totaldays = outcome.days % 7\n",
    "print(f'you have {Totalweeks} weeks and {Totaldays} days until your appiontment')"
   ]
  },
  {
   "cell_type": "code",
   "execution_count": null,
   "id": "39190764",
   "metadata": {},
   "outputs": [],
   "source": []
  }
 ],
 "metadata": {
  "kernelspec": {
   "display_name": "Python 3 (ipykernel)",
   "language": "python",
   "name": "python3"
  },
  "language_info": {
   "codemirror_mode": {
    "name": "ipython",
    "version": 3
   },
   "file_extension": ".py",
   "mimetype": "text/x-python",
   "name": "python",
   "nbconvert_exporter": "python",
   "pygments_lexer": "ipython3",
   "version": "3.9.12"
  }
 },
 "nbformat": 4,
 "nbformat_minor": 5
}
