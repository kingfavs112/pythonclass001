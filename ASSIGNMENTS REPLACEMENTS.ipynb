{
 "cells": [
  {
   "cell_type": "code",
   "execution_count": 29,
   "id": "fccda18f",
   "metadata": {},
   "outputs": [
    {
     "name": "stdout",
     "output_type": "stream",
     "text": [
      "Bommmmmmmmmmmmmmmmmmmmmmmmmmmm BMW A12 has stopped Game over\n"
     ]
    }
   ],
   "source": [
    " #ASSIGNMENT SIX \n",
    "#Using class and object write a bike simulation program with the following attribute(MAKE,MODEL,COLOR,YEAR,SPEED)and the following method(START,GEAR,POWER,NITRO AND STOP)\n",
    "class Bike_Game_Simulation:\n",
    "    def __init__(self,MAKE,MODEL,COLOUR,YEAR,SPEED):\n",
    "        self.MAKE = MAKE\n",
    "        self.MODEL = MODEL\n",
    "        self.COLOUR = COLOUR\n",
    "        self.YEAR = YEAR\n",
    "        self.SPEED = SPEED\n",
    "    def power(self,option):\n",
    "        if option == 1:\n",
    "            print('POWER ON')\n",
    "        elif option == 2:\n",
    "            print('POWER OFF')\n",
    "        else:\n",
    "            print('INVALID POWER OPTION')\n",
    "    def start(self):\n",
    "        print(f'{self.MAKE} {self.MODEL} has started')\n",
    "    def gear(self):\n",
    "        gearoption = input('select a gear')\n",
    "        if gearoption == '1':\n",
    "            print('GEAR ONE SELECTED')\n",
    "        elif gearoption == '2':\n",
    "            print('GEAR TWO SELECTED')\n",
    "        elif gearoption == '3':\n",
    "            print('GEAR THREE SELECTED')\n",
    "        elif gearoption == '4':\n",
    "            print('GEAR FOUR SELECTED')\n",
    "        elif gearoption == '5':\n",
    "            print('GEAR FIVE SELECTED')\n",
    "    def acceleartion(self,option):\n",
    "        if option == 1:\n",
    "            print('NITRO POWER ON')\n",
    "        elif option == 2:\n",
    "            print('NITRO POWER OFF')\n",
    "        else:\n",
    "            print('INVALID ACCELERATION POWER')\n",
    "    def stop(self):\n",
    "        print(f'Bommmmmmmmmmmmmmmmmmmmmmmmmmmm {self.MAKE} {self.MODEL} has stopped Game over')\n",
    "Bike1 = Bike_Game_Simulation('BMW','A12','BLACK',2022,800)\n",
    "Bike2 = Bike_Game_Simulation('Audi','Z63','RED',2022,450)\n",
    "Bike1.stop()\n",
    "        "
   ]
  },
  {
   "cell_type": "code",
   "execution_count": 9,
   "id": "51b1a876",
   "metadata": {},
   "outputs": [
    {
     "name": "stdout",
     "output_type": "stream",
     "text": [
      "Enter no of toys ade bought: 96\n",
      "Enter amount he bought the toys: 8000\n"
     ]
    },
    {
     "ename": "TypeError",
     "evalue": "unsupported operand type(s) for /: 'str' and 'str'",
     "output_type": "error",
     "traceback": [
      "\u001b[1;31m---------------------------------------------------------------------------\u001b[0m",
      "\u001b[1;31mTypeError\u001b[0m                                 Traceback (most recent call last)",
      "Input \u001b[1;32mIn [9]\u001b[0m, in \u001b[0;36m<cell line: 5>\u001b[1;34m()\u001b[0m\n\u001b[0;32m      3\u001b[0m num1 \u001b[38;5;241m=\u001b[39m \u001b[38;5;28minput\u001b[39m(\u001b[38;5;124m'\u001b[39m\u001b[38;5;124mEnter no of toys ade bought: \u001b[39m\u001b[38;5;124m'\u001b[39m)\n\u001b[0;32m      4\u001b[0m num2 \u001b[38;5;241m=\u001b[39m \u001b[38;5;28minput\u001b[39m(\u001b[38;5;124m'\u001b[39m\u001b[38;5;124mEnter amount he bought the toys: \u001b[39m\u001b[38;5;124m'\u001b[39m)\n\u001b[1;32m----> 5\u001b[0m result \u001b[38;5;241m=\u001b[39m \u001b[43mnum1\u001b[49m\u001b[38;5;241;43m/\u001b[39;49m\u001b[43mnum2\u001b[49m\n\u001b[0;32m      6\u001b[0m \u001b[38;5;28mprint\u001b[39m(result)\n",
      "\u001b[1;31mTypeError\u001b[0m: unsupported operand type(s) for /: 'str' and 'str'"
     ]
    }
   ],
   "source": [
    "#ASSIGNMENT TWO\n",
    "#Ade bought 96 toys an at equal to 8000 the amount left with him is 8500 write a program to find the cost of each toy and the amount held\n",
    "num1 = input('Enter no of toys ade bought: ')\n",
    "num2 = input('Enter amount he bought the toys: ')\n",
    "result = num1/num2\n",
    "print(result)"
   ]
  },
  {
   "cell_type": "code",
   "execution_count": null,
   "id": "d403a9bd",
   "metadata": {},
   "outputs": [],
   "source": []
  }
 ],
 "metadata": {
  "kernelspec": {
   "display_name": "Python 3 (ipykernel)",
   "language": "python",
   "name": "python3"
  },
  "language_info": {
   "codemirror_mode": {
    "name": "ipython",
    "version": 3
   },
   "file_extension": ".py",
   "mimetype": "text/x-python",
   "name": "python",
   "nbconvert_exporter": "python",
   "pygments_lexer": "ipython3",
   "version": "3.9.12"
  }
 },
 "nbformat": 4,
 "nbformat_minor": 5
}
