{
 "cells": [
  {
   "cell_type": "markdown",
   "id": "cb6fa9dd",
   "metadata": {},
   "source": [
    "# Integer values can be converted to float and string\n",
    "# Float values can be converted to int and string\n",
    "# String values cannot be converted to int or float except we have a digit passed as a string"
   ]
  },
  {
   "cell_type": "code",
   "execution_count": 1,
   "id": "a31937ca",
   "metadata": {},
   "outputs": [
    {
     "name": "stdout",
     "output_type": "stream",
     "text": [
      "45\n"
     ]
    }
   ],
   "source": [
    "num = int(45.65)\n",
    "print(num)"
   ]
  },
  {
   "cell_type": "code",
   "execution_count": 2,
   "id": "cda241cd",
   "metadata": {},
   "outputs": [
    {
     "name": "stdout",
     "output_type": "stream",
     "text": [
      "45\n"
     ]
    }
   ],
   "source": [
    "print(str(num))"
   ]
  },
  {
   "cell_type": "code",
   "execution_count": 4,
   "id": "c5b91f81",
   "metadata": {},
   "outputs": [
    {
     "ename": "ValueError",
     "evalue": "could not convert string to float: 'p'",
     "output_type": "error",
     "traceback": [
      "\u001b[1;31m---------------------------------------------------------------------------\u001b[0m",
      "\u001b[1;31mValueError\u001b[0m                                Traceback (most recent call last)",
      "\u001b[1;32mc:\\Users\\Simeon\\Documents\\pythonprogramm\\pythonclass0919\\day2.ipynb Cell 4\u001b[0m in \u001b[0;36m<cell line: 2>\u001b[1;34m()\u001b[0m\n\u001b[0;32m      <a href='vscode-notebook-cell:/c%3A/Users/Simeon/Documents/pythonprogramm/pythonclass0919/day2.ipynb#W4sZmlsZQ%3D%3D?line=0'>1</a>\u001b[0m word \u001b[39m=\u001b[39m \u001b[39m'\u001b[39m\u001b[39mp\u001b[39m\u001b[39m'\u001b[39m\n\u001b[1;32m----> <a href='vscode-notebook-cell:/c%3A/Users/Simeon/Documents/pythonprogramm/pythonclass0919/day2.ipynb#W4sZmlsZQ%3D%3D?line=1'>2</a>\u001b[0m \u001b[39mprint\u001b[39m(\u001b[39mfloat\u001b[39;49m(word))\n",
      "\u001b[1;31mValueError\u001b[0m: could not convert string to float: 'p'"
     ]
    }
   ],
   "source": [
    "word = 'p'\n",
    "print(float(word))"
   ]
  },
  {
   "cell_type": "code",
   "execution_count": 5,
   "id": "03544145",
   "metadata": {},
   "outputs": [
    {
     "name": "stdout",
     "output_type": "stream",
     "text": [
      "100.0\n"
     ]
    }
   ],
   "source": [
    "num2 = '100'\n",
    "print(float(num2))"
   ]
  },
  {
   "cell_type": "code",
   "execution_count": 2,
   "id": "7233d3fb",
   "metadata": {
    "scrolled": true
   },
   "outputs": [
    {
     "name": "stdout",
     "output_type": "stream",
     "text": [
      "Please provide your nameFAVOUR\n"
     ]
    }
   ],
   "source": [
    "# input function\n",
    "name = input('Please provide your name')"
   ]
  },
  {
   "cell_type": "code",
   "execution_count": 10,
   "id": "04ffa92c",
   "metadata": {},
   "outputs": [],
   "source": [
    "age = int(input('Please provide your age'))\n",
    "print(age)"
   ]
  },
  {
   "cell_type": "markdown",
   "id": "686097c2",
   "metadata": {},
   "source": [
    "# OPERATORS\n",
    "## Arithimetic Operators\n",
    "## Comparism   Operators\n",
    "## Logical     Operators\n",
    "## Membership  Operators\n",
    "## Identity    Operators"
   ]
  },
  {
   "cell_type": "markdown",
   "id": "3748f61f",
   "metadata": {},
   "source": [
    "# Arithimetic Operators\n",
    "### +\n",
    "### -\n",
    "### /\n",
    "### *\n",
    "### %\n",
    "### //\n",
    "### **"
   ]
  },
  {
   "cell_type": "code",
   "execution_count": 13,
   "id": "2f09f149",
   "metadata": {},
   "outputs": [
    {
     "name": "stdout",
     "output_type": "stream",
     "text": [
      "90 + 25 = 115\n",
      "90 - 25 = 65\n",
      "90 / 25 = 3.6\n",
      "90 * 25 = 2250\n",
      "90 % 25 = 15\n",
      "90 // 25 = 3\n",
      "90 ** 25 = 7178979876918525887702490000000000000000000000000\n"
     ]
    }
   ],
   "source": [
    "num1 = 90\n",
    "num2 = 25\n",
    "print(f'{num1} + {num2} = {num1 + num2}')\n",
    "print(f'{num1} - {num2} = {num1 - num2}')\n",
    "print(f'{num1} / {num2} = {num1 / num2}')\n",
    "print(f'{num1} * {num2} = {num1 * num2}')\n",
    "print(f'{num1} % {num2} = {num1 % num2}')\n",
    "print(f'{num1} // {num2} = {num1 // num2}')\n",
    "print(f'{num1} ** {num2} = {num1 ** num2}')"
   ]
  },
  {
   "cell_type": "code",
   "execution_count": 14,
   "id": "613b47c4",
   "metadata": {},
   "outputs": [
    {
     "name": "stdout",
     "output_type": "stream",
     "text": [
      "90 > 25 = True\n",
      "90 < 25 = False\n",
      "90 >= 25 = True\n",
      "90 <= 25 = False\n",
      "90 == 25 = False\n",
      "90 != 25 = True\n"
     ]
    }
   ],
   "source": [
    "#Comparism Operators\n",
    "print(f'{num1} > {num2} = {num1 > num2}')\n",
    "print(f'{num1} < {num2} = {num1 < num2}')\n",
    "print(f'{num1} >= {num2} = {num1 >= num2}')\n",
    "print(f'{num1} <= {num2} = {num1 <= num2}')\n",
    "print(f'{num1} == {num2} = {num1 == num2}')\n",
    "print(f'{num1} != {num2} = {num1 != num2}')"
   ]
  },
  {
   "cell_type": "code",
   "execution_count": 17,
   "id": "0159cc6a",
   "metadata": {},
   "outputs": [
    {
     "name": "stdout",
     "output_type": "stream",
     "text": [
      "False\n",
      "True\n",
      "False\n"
     ]
    }
   ],
   "source": [
    "#logical Operators\n",
    "#and, or, not\n",
    "print(num1 > num2 and num1 == num2)\n",
    "print(num1 > num2 or num1 == num2)\n",
    "print(not num1)"
   ]
  },
  {
   "cell_type": "code",
   "execution_count": 18,
   "id": "d1d4adf8",
   "metadata": {},
   "outputs": [
    {
     "name": "stdout",
     "output_type": "stream",
     "text": [
      "True\n",
      "True\n"
     ]
    }
   ],
   "source": [
    "#Membership operators\n",
    "#in, not in\n",
    "word = 'python'\n",
    "print('p' in word)\n",
    "print('P' not in word)"
   ]
  },
  {
   "cell_type": "code",
   "execution_count": 19,
   "id": "b15d3f72",
   "metadata": {},
   "outputs": [
    {
     "name": "stdout",
     "output_type": "stream",
     "text": [
      "False\n",
      "True\n"
     ]
    }
   ],
   "source": [
    "#Identity Operators \n",
    "#is , is not\n",
    "print(num1 is num2)\n",
    "print(num2 is not num1)"
   ]
  },
  {
   "cell_type": "code",
   "execution_count": 7,
   "id": "84ba625b",
   "metadata": {},
   "outputs": [
    {
     "name": "stdout",
     "output_type": "stream",
     "text": [
      "Enter the principal amount :5000\n",
      "Enter the number of years :3\n",
      "Enter the rate of interest :0.06\n",
      "compound interest : 5009.005401079999\n"
     ]
    }
   ],
   "source": [
    "#Python program to compute compound interest\n",
    "\n",
    "p = float(input(\"Enter the principal amount :\"))\n",
    "\n",
    "t = float(input(\"Enter the number of years :\"))\n",
    "\n",
    "r = float(input(\"Enter the rate of interest :\"))\n",
    "\n",
    "#compute compound interest \n",
    "ci =  p * (pow((1 + r / 100), t))\n",
    "\n",
    "#print \n",
    "print(\"compound interest : {}\".format(ci))"
   ]
  },
  {
   "cell_type": "code",
   "execution_count": null,
   "id": "8e0c8a6d",
   "metadata": {},
   "outputs": [],
   "source": []
  }
 ],
 "metadata": {
  "kernelspec": {
   "display_name": "Python 3 (ipykernel)",
   "language": "python",
   "name": "python3"
  },
  "language_info": {
   "codemirror_mode": {
    "name": "ipython",
    "version": 3
   },
   "file_extension": ".py",
   "mimetype": "text/x-python",
   "name": "python",
   "nbconvert_exporter": "python",
   "pygments_lexer": "ipython3",
   "version": "3.9.12"
  },
  "vscode": {
   "interpreter": {
    "hash": "97a318a1c10ea3cad32b5f740e8bef65bce9a717407c951d39899fa160feabd9"
   }
  }
 },
 "nbformat": 4,
 "nbformat_minor": 5
}
