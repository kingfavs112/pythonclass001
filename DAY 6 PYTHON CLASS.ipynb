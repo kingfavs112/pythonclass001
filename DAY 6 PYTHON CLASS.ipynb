{
 "cells": [
  {
   "cell_type": "code",
   "execution_count": 1,
   "id": "fbf59360",
   "metadata": {},
   "outputs": [
    {
     "name": "stdout",
     "output_type": "stream",
     "text": [
      "Welcome to python class\n"
     ]
    }
   ],
   "source": [
    "#Function:\n",
    "def greet():#A function with no parameter or arguement\n",
    "    return 'Welcome to python class'\n",
    "print(greet())"
   ]
  },
  {
   "cell_type": "code",
   "execution_count": 2,
   "id": "7776974f",
   "metadata": {},
   "outputs": [
    {
     "name": "stdout",
     "output_type": "stream",
     "text": [
      "Welcome to python class ade\n"
     ]
    }
   ],
   "source": [
    "def greet2(name):#A function with a single parameter or argument\n",
    "    return f'Welcome to python class {name}'\n",
    "print(greet2('ade'))"
   ]
  },
  {
   "cell_type": "code",
   "execution_count": 3,
   "id": "fd839b93",
   "metadata": {},
   "outputs": [
    {
     "name": "stdout",
     "output_type": "stream",
     "text": [
      "Welcome to python class jane\n"
     ]
    }
   ],
   "source": [
    "print(greet2('jane'))"
   ]
  },
  {
   "cell_type": "code",
   "execution_count": 4,
   "id": "fdec9725",
   "metadata": {},
   "outputs": [
    {
     "name": "stdout",
     "output_type": "stream",
     "text": [
      "Above normal bag weight by medium kg therefore you would be charged N20,000\n",
      "None\n"
     ]
    }
   ],
   "source": [
    "def bag_check(type_of_bag,color,bagweight):\n",
    "    if bagweight <= 23:\n",
    "        print('normal bag weight no charges')\n",
    "    elif bagweight >=24 and bagweight<=30:\n",
    "        print('above normal bag weight by little kg therefore you would be charged N10,000')\n",
    "    elif bagweight >=31 and bagweight <=40:\n",
    "        print('Above normal bag weight by medium kg therefore you would be charged N20,000')\n",
    "    else:\n",
    "        print('Above normal bag weight by large kg therefore you will be charged a waybill of N40,000')\n",
    "print(bag_check('medium Box','black',35))"
   ]
  },
  {
   "cell_type": "code",
   "execution_count": 5,
   "id": "e9f36d1a",
   "metadata": {},
   "outputs": [
    {
     "name": "stdout",
     "output_type": "stream",
     "text": [
      "Above normal bag weight by large kg therefore you will be charged a waybill of N40,000\n",
      "None\n"
     ]
    }
   ],
   "source": [
    "#FUNCTION WITH DEFAULT PARAMETER\n",
    "def bag_check(type_of_bag,color,bagweight = 23):\n",
    "    if bagweight <= 23:\n",
    "        print('normal bag weight no charges')\n",
    "    elif bagweight >=24 and bagweight<=30:\n",
    "        print('above normal bag weight by little kg therefore you would be charged N10,000')\n",
    "    elif bagweight >=31 and bagweight <=40:\n",
    "        print('Above normal bag weight by medium kg therefore you would be charged N20,000')\n",
    "    else:\n",
    "        print('Above normal bag weight by large kg therefore you will be charged a waybill of N40,000')\n",
    "print(bag_check('medium Box','black',59))"
   ]
  },
  {
   "cell_type": "code",
   "execution_count": 8,
   "id": "764de5af",
   "metadata": {},
   "outputs": [
    {
     "name": "stdout",
     "output_type": "stream",
     "text": [
      "PLAYER ONE SCORE 7\n",
      "PLAYER TWO SCORE 7\n",
      "IT IS A DRAW\n",
      "\n",
      "\n",
      "PLAYER ONE SCORE 7\n",
      "PLAYER TWO SCORE 11\n",
      "PLAYER TWO WINS\n",
      "\n",
      "\n",
      "PLAYER ONE SCORE 6\n",
      "PLAYER TWO SCORE 8\n",
      "PLAYER TWO WINS\n",
      "\n",
      "\n",
      "PLAYER ONE SCORE 3\n",
      "PLAYER TWO SCORE 9\n",
      "PLAYER TWO WINS\n",
      "\n",
      "\n",
      "PLAYER ONE SCORE 6\n",
      "PLAYER TWO SCORE 9\n",
      "PLAYER TWO WINS\n",
      "\n",
      "\n",
      "PLAYER ONE SCORE 3\n",
      "PLAYER TWO SCORE 3\n",
      "IT IS A DRAW\n",
      "\n",
      "\n",
      "PLAYER ONE SCORE 7\n",
      "PLAYER TWO SCORE 9\n",
      "PLAYER TWO WINS\n",
      "\n",
      "\n",
      "PLAYER ONE SCORE 7\n",
      "PLAYER TWO SCORE 7\n",
      "IT IS A DRAW\n",
      "\n",
      "\n",
      "PLAYER ONE SCORE 8\n",
      "PLAYER TWO SCORE 8\n",
      "IT IS A DRAW\n",
      "\n",
      "\n",
      "PLAYER ONE SCORE 6\n",
      "PLAYER TWO SCORE 10\n",
      "PLAYER TWO WINS\n",
      "\n",
      "\n",
      "PLAYER ONE IS THE OVERALL WINNER WITH A TOTAL POINT OF 50\n"
     ]
    }
   ],
   "source": [
    "def dice_roller():\n",
    "    import random\n",
    "    player1score = 0\n",
    "    player2score = 0\n",
    "    for i in range(1,11):\n",
    "        dice1 = random.randint(1,6) + random.randint(1,6)\n",
    "        dice2 = random.randint(1,6) + random.randint(1,6)\n",
    "        \n",
    "        if dice1 > dice2:\n",
    "            print(f'PLAYER ONE SCORE {dice1}')\n",
    "            print(f'PLAYER TWO SCORE {dice2}')\n",
    "            print(f'PLAYER ONE WINS')\n",
    "            player1score = player1score + 5\n",
    "            print('\\n')\n",
    "        elif dice2 > dice1:\n",
    "            print(f'PLAYER ONE SCORE {dice1}')\n",
    "            print(f'PLAYER TWO SCORE {dice2}')\n",
    "            print(f'PLAYER TWO WINS')\n",
    "            player1score = player1score + 5\n",
    "            print('\\n')     \n",
    "        elif dice1 == dice2:\n",
    "            print(f'PLAYER ONE SCORE {dice1}')\n",
    "            print(f'PLAYER TWO SCORE {dice2}')\n",
    "            print(f'IT IS A DRAW')\n",
    "            player1score = player1score + 5\n",
    "            print('\\n')\n",
    "    if player1score > player2score:\n",
    "        print(f'PLAYER ONE IS THE OVERALL WINNER WITH A TOTAL POINT OF {player1score}')\n",
    "    elif player2score > player1score:\n",
    "        print(f'PLAYER TWO IS THE OVERALL WINNER WITH A TOTAL POINT OF {player2score}')\n",
    "    else:\n",
    "        print(f'NO WINNER THEREFORE IT IS A DRAW')\n",
    "dice_roller()        "
   ]
  },
  {
   "cell_type": "code",
   "execution_count": 9,
   "id": "8a8be906",
   "metadata": {},
   "outputs": [
    {
     "name": "stdout",
     "output_type": "stream",
     "text": [
      "PLAYER ONE SCORE 6\n",
      "PLAYER TWO SCORE 11\n",
      "PLAYER TWO WINS\n",
      "\n",
      "\n",
      "PLAYER ONE SCORE 7\n",
      "PLAYER TWO SCORE 10\n",
      "PLAYER TWO WINS\n",
      "\n",
      "\n",
      "PLAYER ONE SCORE 9\n",
      "PLAYER TWO SCORE 7\n",
      "PLAYER ONE WINS\n",
      "\n",
      "\n",
      "PLAYER ONE SCORE 8\n",
      "PLAYER TWO SCORE 10\n",
      "PLAYER TWO WINS\n",
      "\n",
      "\n",
      "PLAYER ONE SCORE 4\n",
      "PLAYER TWO SCORE 10\n",
      "PLAYER TWO WINS\n",
      "\n",
      "\n",
      "PLAYER ONE SCORE 2\n",
      "PLAYER TWO SCORE 7\n",
      "PLAYER TWO WINS\n",
      "\n",
      "\n",
      "PLAYER ONE SCORE 7\n",
      "PLAYER TWO SCORE 6\n",
      "PLAYER ONE WINS\n",
      "\n",
      "\n",
      "PLAYER ONE SCORE 7\n",
      "PLAYER TWO SCORE 6\n",
      "PLAYER ONE WINS\n",
      "\n",
      "\n",
      "PLAYER ONE SCORE 7\n",
      "PLAYER TWO SCORE 8\n",
      "PLAYER TWO WINS\n",
      "\n",
      "\n",
      "PLAYER ONE SCORE 11\n",
      "PLAYER TWO SCORE 6\n",
      "PLAYER ONE WINS\n",
      "\n",
      "\n",
      "PLAYER ONE IS THE OVERALL WINNER WITH A TOTAL POINT OF 50\n"
     ]
    }
   ],
   "source": [
    "def dice_roller():\n",
    "    import random\n",
    "    player1score = 0\n",
    "    player2score = 0\n",
    "    counter = 1\n",
    "    while counter <= 10:\n",
    "        dice1 = random.randint(1,6) + random.randint(1,6)\n",
    "        dice2 = random.randint(1,6) + random.randint(1,6)\n",
    "        \n",
    "        if dice1 > dice2:\n",
    "            print(f'PLAYER ONE SCORE {dice1}')\n",
    "            print(f'PLAYER TWO SCORE {dice2}')\n",
    "            print(f'PLAYER ONE WINS')\n",
    "            player1score = player1score + 5\n",
    "            print('\\n')\n",
    "        elif dice2 > dice1:\n",
    "            print(f'PLAYER ONE SCORE {dice1}')\n",
    "            print(f'PLAYER TWO SCORE {dice2}')\n",
    "            print(f'PLAYER TWO WINS')\n",
    "            player1score = player1score + 5\n",
    "            print('\\n')     \n",
    "        elif dice1 == dice2:\n",
    "            print(f'PLAYER ONE SCORE {dice1}')\n",
    "            print(f'PLAYER TWO SCORE {dice2}')\n",
    "            print(f'IT IS A DRAW')\n",
    "            player1score = player1score + 5\n",
    "            print('\\n')\n",
    "        counter += 1\n",
    "    if player1score > player2score:\n",
    "        print(f'PLAYER ONE IS THE OVERALL WINNER WITH A TOTAL POINT OF {player1score}')\n",
    "    elif player2score > player1score:\n",
    "        print(f'PLAYER TWO IS THE OVERALL WINNER WITH A TOTAL POINT OF {player2score}')\n",
    "    else:\n",
    "        print(f'NO WINNER THEREFORE IT IS A DRAW')\n",
    "dice_roller()        "
   ]
  },
  {
   "cell_type": "code",
   "execution_count": 10,
   "id": "fa554128",
   "metadata": {},
   "outputs": [
    {
     "name": "stdout",
     "output_type": "stream",
     "text": [
      "<class 'tuple'>\n"
     ]
    },
    {
     "data": {
      "text/plain": [
       "'The average score of the following numbers (47, 89, 56, 85, 24, 69, 87, 89, 63, 25) is 63.4'"
      ]
     },
     "execution_count": 10,
     "metadata": {},
     "output_type": "execute_result"
    }
   ],
   "source": [
    "def average(*num): # variable lenght of none key word agrument(*num)\n",
    "    print(type(num))\n",
    "    avg = sum(num)/len(num)\n",
    "    return f'The average score of the following numbers {num} is {avg}'\n",
    "average(47,89,56,85,24,69,87,89,63,25)"
   ]
  },
  {
   "cell_type": "code",
   "execution_count": 12,
   "id": "c5242a7a",
   "metadata": {},
   "outputs": [
    {
     "name": "stdout",
     "output_type": "stream",
     "text": [
      "[47, 47, 45, 48, 47, 45, 50, 48, 50, 45, 49, 50, 45, 45, 50, 50, 49, 50, 50, 46, 48, 48, 47, 46, 48, 50, 48, 47, 49, 50, 50, 48, 50, 46, 47, 49, 49, 46, 45, 47, 45, 49, 45, 48, 49, 50, 47, 50, 46, 47]\n"
     ]
    }
   ],
   "source": [
    "import random\n",
    "numbers=[]\n",
    "counter=1\n",
    "while counter<=50:\n",
    "    numbers.append(random.randint(45,50))\n",
    "    counter+= 1\n",
    "print(numbers)\n",
    "\n"
   ]
  },
  {
   "cell_type": "code",
   "execution_count": 13,
   "id": "c0bf06b2",
   "metadata": {},
   "outputs": [
    {
     "name": "stdout",
     "output_type": "stream",
     "text": [
      "<class 'tuple'>\n"
     ]
    },
    {
     "data": {
      "text/plain": [
       "'The average score of the following numbers (47, 47, 45, 48, 47, 45, 50, 48, 50, 45, 49, 50, 45, 45, 50, 50, 49, 50, 50, 46, 48, 48, 47, 46, 48, 50, 48, 47, 49, 50, 50, 48, 50, 46, 47, 49, 49, 46, 45, 47, 45, 49, 45, 48, 49, 50, 47, 50, 46, 47) is 47.8'"
      ]
     },
     "execution_count": 13,
     "metadata": {},
     "output_type": "execute_result"
    }
   ],
   "source": [
    "average(*numbers)"
   ]
  },
  {
   "cell_type": "code",
   "execution_count": 16,
   "id": "a938d57c",
   "metadata": {},
   "outputs": [
    {
     "name": "stdout",
     "output_type": "stream",
     "text": [
      "<class 'dict'>\n",
      "name ::: Ade\n",
      "age ::: 45\n",
      "gender ::: male\n"
     ]
    }
   ],
   "source": [
    "def details(**record):\n",
    "    print(type(record))\n",
    "    for key,value in record.items():\n",
    "        print(f'{key} ::: {value}')\n",
    "details(name='Ade',age=45,gender='male')        "
   ]
  },
  {
   "cell_type": "code",
   "execution_count": null,
   "id": "b7d4841a",
   "metadata": {},
   "outputs": [],
   "source": []
  }
 ],
 "metadata": {
  "kernelspec": {
   "display_name": "Python 3 (ipykernel)",
   "language": "python",
   "name": "python3"
  },
  "language_info": {
   "codemirror_mode": {
    "name": "ipython",
    "version": 3
   },
   "file_extension": ".py",
   "mimetype": "text/x-python",
   "name": "python",
   "nbconvert_exporter": "python",
   "pygments_lexer": "ipython3",
   "version": "3.9.12"
  }
 },
 "nbformat": 4,
 "nbformat_minor": 5
}
