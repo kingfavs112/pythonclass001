{
 "cells": [
  {
   "cell_type": "code",
   "execution_count": 1,
   "id": "d7972829",
   "metadata": {},
   "outputs": [
    {
     "data": {
      "text/plain": [
       "248063644451341145494649182395412689744530581492654164321720600128173828125"
      ]
     },
     "execution_count": 1,
     "metadata": {},
     "output_type": "execute_result"
    }
   ],
   "source": [
    "#lambda functions\n",
    "(lambda x: x**x)(45)"
   ]
  },
  {
   "cell_type": "code",
   "execution_count": 2,
   "id": "b228223d",
   "metadata": {},
   "outputs": [
    {
     "name": "stdout",
     "output_type": "stream",
     "text": [
      "please provide your nameFavour\n"
     ]
    },
    {
     "data": {
      "text/plain": [
       "'Favour starts with an uppercase letter'"
      ]
     },
     "execution_count": 2,
     "metadata": {},
     "output_type": "execute_result"
    }
   ],
   "source": [
    "(lambda name:f'{name} starts with an uppercase letter' if name[0]==name[0].upper() else f'{name} does not start with an uppercase letter')(input('please provide your name'))"
   ]
  },
  {
   "cell_type": "code",
   "execution_count": 10,
   "id": "d7c591b1",
   "metadata": {},
   "outputs": [
    {
     "name": "stdout",
     "output_type": "stream",
     "text": [
      "please provide a password:Seyi12\n"
     ]
    },
    {
     "data": {
      "text/plain": [
       "'Seyi12 starts with an uppercase and end with ends with digit'"
      ]
     },
     "execution_count": 10,
     "metadata": {},
     "output_type": "execute_result"
    }
   ],
   "source": [
    "# Exercise 1\n",
    "# write a lambda functioin to check if a given user password starts with an uppercase and ends with a digit\n",
    "(lambda password:f'{password} starts with an uppercase and end with ends with digit' if (password[0]==password[0].upper()) and (password[-1] == '0' or password[-1]=='2') else f'{password} does not start with an uppercase case or does not end with digit')(input('please provide a password:'))"
   ]
  },
  {
   "cell_type": "code",
   "execution_count": 11,
   "id": "4183409a",
   "metadata": {},
   "outputs": [
    {
     "name": "stdout",
     "output_type": "stream",
     "text": [
      "PLEASE PROVIDE A NUMBER:4563877\n"
     ]
    },
    {
     "data": {
      "text/plain": [
       "'4563877 is an odd number'"
      ]
     },
     "execution_count": 11,
     "metadata": {},
     "output_type": "execute_result"
    }
   ],
   "source": [
    "# Exercise 2\n",
    "# write a lambda function to check if a given number is an odd number or even number\n",
    "(lambda number:f'{number} is an even number' if number % 2 == 0 else f'{number} is an odd number')(int(input('PLEASE PROVIDE A NUMBER:')))"
   ]
  },
  {
   "cell_type": "code",
   "execution_count": 12,
   "id": "7f7e8359",
   "metadata": {},
   "outputs": [
    {
     "name": "stdout",
     "output_type": "stream",
     "text": [
      "[1.0, 1.4142135623730951, 1.7320508075688772, 2.0, 2.23606797749979, 2.449489742783178, 2.6457513110645907, 2.8284271247461903, 3.0, 3.1622776601683795, 3.3166247903554, 3.4641016151377544, 3.605551275463989, 3.7416573867739413, 3.872983346207417, 4.0, 4.123105625617661, 4.242640687119285, 4.358898943540674, 4.47213595499958]\n"
     ]
    }
   ],
   "source": [
    "# USING MAP\n",
    "import math\n",
    "output = list(map(lambda x: math.sqrt (x), range(1,21)))\n",
    "print(output)"
   ]
  },
  {
   "cell_type": "code",
   "execution_count": 14,
   "id": "493b055d",
   "metadata": {},
   "outputs": [
    {
     "name": "stdout",
     "output_type": "stream",
     "text": [
      "['BINGO', 'ROCKY', 'WATTY', 'PONKY', 'BATTY']\n"
     ]
    }
   ],
   "source": [
    "list_dogs = ['bingo','rocky','watty','ponky','batty']\n",
    "list_dogs = list(map(lambda x: x.upper(),list_dogs))\n",
    "print(list_dogs)"
   ]
  },
  {
   "cell_type": "code",
   "execution_count": 16,
   "id": "269548bd",
   "metadata": {},
   "outputs": [
    {
     "name": "stdout",
     "output_type": "stream",
     "text": [
      "[1, 2, 3, 4, 5, 6, 7, 8, 9, 10]\n"
     ]
    }
   ],
   "source": [
    "# USING FLITER\n",
    "output = list(filter(lambda x:x <=10,range(1,21)))\n",
    "print(output)"
   ]
  },
  {
   "cell_type": "code",
   "execution_count": 17,
   "id": "c9080348",
   "metadata": {},
   "outputs": [
    {
     "name": "stdout",
     "output_type": "stream",
     "text": [
      "['BINGO', 'BATTY']\n"
     ]
    }
   ],
   "source": [
    "list_dogs = list(filter(lambda x: x.startswith('B'),list_dogs))\n",
    "print(list_dogs)"
   ]
  },
  {
   "cell_type": "code",
   "execution_count": null,
   "id": "9522897a",
   "metadata": {},
   "outputs": [],
   "source": []
  }
 ],
 "metadata": {
  "kernelspec": {
   "display_name": "Python 3 (ipykernel)",
   "language": "python",
   "name": "python3"
  },
  "language_info": {
   "codemirror_mode": {
    "name": "ipython",
    "version": 3
   },
   "file_extension": ".py",
   "mimetype": "text/x-python",
   "name": "python",
   "nbconvert_exporter": "python",
   "pygments_lexer": "ipython3",
   "version": "3.9.12"
  }
 },
 "nbformat": 4,
 "nbformat_minor": 5
}
