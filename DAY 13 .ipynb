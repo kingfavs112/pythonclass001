{
 "cells": [
  {
   "cell_type": "code",
   "execution_count": 1,
   "id": "c7109622",
   "metadata": {},
   "outputs": [],
   "source": [
    "import pymysql\n"
   ]
  },
  {
   "cell_type": "code",
   "execution_count": 4,
   "id": "43147b04",
   "metadata": {},
   "outputs": [],
   "source": [
    "mydb = pymysql.connect(\n",
    "    host = 'localhost',\n",
    "    user = 'root',\n",
    "    password='@Kenny8308',\n",
    "    database='accesswayprimebank'\n",
    ")\n",
    "mycursor = mydb.cursor()"
   ]
  },
  {
   "cell_type": "code",
   "execution_count": 5,
   "id": "3930bc29",
   "metadata": {},
   "outputs": [
    {
     "name": "stdout",
     "output_type": "stream",
     "text": [
      "('staffid', 'int', 'NO', 'PRI', None, 'auto_increment')\n",
      "('staffname', 'varchar(255)', 'NO', '', None, '')\n",
      "('staffgender', 'varchar(10)', 'NO', '', None, '')\n",
      "('staffdesignation', 'varchar(50)', 'NO', '', None, '')\n",
      "('staffqualification', 'varchar(80)', 'NO', '', None, '')\n"
     ]
    }
   ],
   "source": [
    "mycursor.execute('alter table mainstaffdetails add column staffqualification varchar(80) not null')\n",
    "mycursor.execute('show columns from mainstaffdetails')\n",
    "for x in mycursor:\n",
    "    print(x)"
   ]
  },
  {
   "cell_type": "code",
   "execution_count": 6,
   "id": "f3a91414",
   "metadata": {},
   "outputs": [
    {
     "name": "stdout",
     "output_type": "stream",
     "text": [
      "('staffid', 'int', 'NO', 'PRI', None, 'auto_increment')\n",
      "('staffname', 'varchar(255)', 'NO', '', None, '')\n",
      "('staffgender', 'varchar(10)', 'NO', '', None, '')\n",
      "('staffdesignation', 'varchar(150)', 'NO', '', None, '')\n",
      "('staffqualification', 'varchar(80)', 'NO', '', None, '')\n"
     ]
    }
   ],
   "source": [
    "mycursor.execute('alter table mainstaffdetails modify column staffdesignation varchar(150) not null')\n",
    "mycursor.execute('show columns from mainstaffdetails')\n",
    "for x in mycursor:\n",
    "    print(x)"
   ]
  },
  {
   "cell_type": "code",
   "execution_count": 7,
   "id": "433e7b61",
   "metadata": {},
   "outputs": [
    {
     "name": "stdout",
     "output_type": "stream",
     "text": [
      "('staffid', 'int', 'NO', 'PRI', None, 'auto_increment')\n",
      "('staffname', 'varchar(255)', 'NO', '', None, '')\n",
      "('staffgender', 'varchar(10)', 'NO', '', None, '')\n",
      "('staffcontact', 'varchar(45)', 'NO', '', None, '')\n",
      "('staffdesignation', 'varchar(150)', 'NO', '', None, '')\n",
      "('staffqualification', 'varchar(80)', 'NO', '', None, '')\n"
     ]
    }
   ],
   "source": [
    "mycursor.execute('alter table mainstaffdetails add column staffcontact varchar(45) not null after staffgender')\n",
    "mycursor.execute('show columns from mainstaffdetails')\n",
    "for x in mycursor:\n",
    "    print(x)"
   ]
  },
  {
   "cell_type": "code",
   "execution_count": 8,
   "id": "8dc8a842",
   "metadata": {},
   "outputs": [
    {
     "name": "stdout",
     "output_type": "stream",
     "text": [
      "('duplicateid', 'varchar(45)', 'NO', '', None, '')\n",
      "('staffid', 'int', 'NO', 'PRI', None, 'auto_increment')\n",
      "('staffname', 'varchar(255)', 'NO', '', None, '')\n",
      "('staffgender', 'varchar(10)', 'NO', '', None, '')\n",
      "('staffcontact', 'varchar(45)', 'NO', '', None, '')\n",
      "('staffdesignation', 'varchar(150)', 'NO', '', None, '')\n",
      "('staffqualification', 'varchar(80)', 'NO', '', None, '')\n"
     ]
    }
   ],
   "source": [
    "mycursor.execute('alter table mainstaffdetails add column duplicateid varchar(45) not null first')\n",
    "mycursor.execute('show columns from mainstaffdetails')\n",
    "for x in mycursor:\n",
    "    print(x)"
   ]
  },
  {
   "cell_type": "code",
   "execution_count": 9,
   "id": "b02f0e2e",
   "metadata": {},
   "outputs": [
    {
     "name": "stdout",
     "output_type": "stream",
     "text": [
      "('staffid', 'int', 'NO', 'PRI', None, 'auto_increment')\n",
      "('staffname', 'varchar(255)', 'NO', '', None, '')\n",
      "('staffgender', 'varchar(10)', 'NO', '', None, '')\n",
      "('staffcontact', 'varchar(45)', 'NO', '', None, '')\n",
      "('staffdesignation', 'varchar(150)', 'NO', '', None, '')\n",
      "('staffqualification', 'varchar(80)', 'NO', '', None, '')\n"
     ]
    }
   ],
   "source": [
    "# HOW TO DELETE A COLUMN\n",
    "mycursor.execute('alter table mainstaffdetails drop column duplicateid')\n",
    "mycursor.execute('show columns from mainstaffdetails')\n",
    "for x in mycursor:\n",
    "    print(x)"
   ]
  },
  {
   "cell_type": "code",
   "execution_count": 10,
   "id": "0ed1d8bf",
   "metadata": {},
   "outputs": [
    {
     "name": "stdout",
     "output_type": "stream",
     "text": [
      "('staffid', 'int', 'NO', 'PRI', None, 'auto_increment')\n",
      "('staffname', 'varchar(255)', 'NO', '', None, '')\n",
      "('staffgender', 'varchar(10)', 'NO', '', None, '')\n",
      "('staffphonenumber', 'varchar(80)', 'NO', '', None, '')\n",
      "('staffdesignation', 'varchar(150)', 'NO', '', None, '')\n",
      "('staffqualification', 'varchar(80)', 'NO', '', None, '')\n"
     ]
    }
   ],
   "source": [
    "# HOW TO RENAME A COLUMN\n",
    "mycursor.execute('alter table mainstaffdetails change column staffcontact staffphonenumber varchar(80) not null')\n",
    "mycursor.execute('show columns from mainstaffdetails')\n",
    "for x in mycursor:\n",
    "    print(x)"
   ]
  },
  {
   "cell_type": "code",
   "execution_count": 17,
   "id": "59d64ced",
   "metadata": {},
   "outputs": [
    {
     "name": "stdout",
     "output_type": "stream",
     "text": [
      "('permrnantstaffdetails',)\n"
     ]
    }
   ],
   "source": [
    "#HOW TO CHANGE A TABLES NAMES \n",
    "#mycursor.execute('alter table mainstaffdetails rename to permenantstaffdetails')\n",
    "mycursor.execute('show tables')\n",
    "for x in mycursor:\n",
    "    print(x)"
   ]
  },
  {
   "cell_type": "code",
   "execution_count": 18,
   "id": "ca440919",
   "metadata": {},
   "outputs": [],
   "source": [
    "#how to edit the value inside the table\n",
    "#INSERT\n",
    "sql = 'insert into permrnantstaffdetails(staffid,staffname,staffgender,staffphonenumber,staffdesignation,staffqualification) values (%s,%s,%s,%s,%s,%s)'\n",
    "val = [(1,'OBED AKPAN','MALE','08023456754','SENIOR MARKETING OFFICER1','DOCTORATE DEGREE'),\n",
    "      (2,'OKORO LUCY','FEMALE','08091987391','REGIONAL MANAGER','MBA'),\n",
    "      (3,'JANET AKINLABI','FEMALE','0807685958','BRANCH MANAGER','MASTERS'),\n",
    "      (4,'PAUL LAWAL','MALE','08077632452','HEAD OF MARKETING','DOCTORATE DEGREE'),\n",
    "      (5,'SUSAN PWAJOK','FEMALE','09086552197','SENIOR MARKETING OFFICER2','MASTERS'),\n",
    "      (6,'SAMUEL OKORO','MALE','08091867584','HEAD OF ICT','PHD'),\n",
    "      (7,'MARY KWAWA','FEMALE','08167484784','CUSTOMER REPRESENTATIVE 1','BSC')]\n",
    "mycursor.executemany(sql,val)\n",
    "mydb.commit()"
   ]
  },
  {
   "cell_type": "code",
   "execution_count": 20,
   "id": "ecbdd92b",
   "metadata": {},
   "outputs": [
    {
     "name": "stdout",
     "output_type": "stream",
     "text": [
      "(1, 'OBED AKPAN', 'MALE', '08023456754', 'SENIOR MARKETING OFFICER1', 'DOCTORATE DEGREE')\n",
      "(2, 'OKORO LUCY', 'FEMALE', '08091987391', 'REGIONAL MANAGER', 'MBA')\n",
      "(3, 'JANET AKINLABI', 'FEMALE', '0807685958', 'BRANCH MANAGER', 'MASTERS')\n",
      "(4, 'PAUL LAWAL', 'MALE', '08077632452', 'HEAD OF MARKETING', 'DOCTORATE DEGREE')\n",
      "(5, 'SUSAN PWAJOK', 'FEMALE', '09086552197', 'SENIOR MARKETING OFFICER2', 'MASTERS')\n",
      "(6, 'SAMUEL OKORO', 'MALE', '08091867584', 'HEAD OF ICT', 'PHD')\n",
      "(7, 'MARY KWAWA', 'FEMALE', '08167484784', 'CUSTOMER REPRESENTATIVE 1', 'BSC')\n"
     ]
    }
   ],
   "source": [
    "#SELECT\n",
    "# * means OR\n",
    "mycursor.execute('select*from permrnantstaffdetails')\n",
    "for x in mycursor:\n",
    "    print(x)"
   ]
  },
  {
   "cell_type": "code",
   "execution_count": 23,
   "id": "5648cd7d",
   "metadata": {},
   "outputs": [],
   "source": [
    "# UPDATE\n",
    "mycursor.execute('update permrnantstaffdetails set staffqualification = \"DOCTORATE DEGREE\" where staffid =5')\n",
    "for x in mycursor:\n",
    "    print(x)"
   ]
  },
  {
   "cell_type": "code",
   "execution_count": 24,
   "id": "537b5ff2",
   "metadata": {},
   "outputs": [
    {
     "name": "stdout",
     "output_type": "stream",
     "text": [
      "(1, 'OBED AKPAN', 'MALE', '08023456754', 'SENIOR MARKETING OFFICER1', 'DOCTORATE DEGREE')\n",
      "(2, 'OKORO LUCY', 'FEMALE', '08091987391', 'REGIONAL MANAGER', 'MBA')\n",
      "(3, 'JANET AKINLABI', 'FEMALE', '0807685958', 'BRANCH MANAGER', 'MASTERS')\n",
      "(4, 'PAUL LAWAL', 'MALE', '08077632452', 'HEAD OF MARKETING', 'DOCTORATE DEGREE')\n",
      "(5, 'SUSAN PWAJOK', 'FEMALE', '09086552197', 'SENIOR MARKETING OFFICER2', 'DOCTORATE DEGREE')\n",
      "(6, 'SAMUEL OKORO', 'MALE', '08091867584', 'HEAD OF ICT', 'PHD')\n",
      "(7, 'MARY KWAWA', 'FEMALE', '08167484784', 'CUSTOMER REPRESENTATIVE 1', 'BSC')\n"
     ]
    }
   ],
   "source": [
    "mycursor.execute('select*from permrnantstaffdetails')\n",
    "for x in mycursor:\n",
    "    print(x)"
   ]
  },
  {
   "cell_type": "code",
   "execution_count": 25,
   "id": "1c59ce81",
   "metadata": {},
   "outputs": [
    {
     "name": "stdout",
     "output_type": "stream",
     "text": [
      "(1, 'OBED AKPAN', 'MALE', '08023456754', 'SENIOR MARKETING OFFICER1', 'DOCTORATE DEGREE')\n",
      "(2, 'OKORO LUCY', 'FEMALE', '08091987391', 'REGIONAL MANAGER', 'MBA')\n",
      "(3, 'JANET AKINLABI', 'FEMALE', '0807685958', 'BRANCH MANAGER', 'MASTERS')\n",
      "(4, 'PAUL LAWAL', 'MALE', '08077632452', 'HEAD OF MARKETING', 'DOCTORATE DEGREE')\n",
      "(5, 'SUSAN PWAJOK', 'FEMALE', '09086552197', 'SENIOR MARKETING OFFICER2', 'DOCTORATE DEGREE')\n",
      "(6, 'SAMUEL OKORO', 'MALE', '08091867584', 'HEAD OF ICT', 'PHD')\n"
     ]
    }
   ],
   "source": [
    "# DELETE\n",
    "mycursor.execute('delete from permrnantstaffdetails where staffid = 7')\n",
    "mycursor.execute('select*from permrnantstaffdetails')\n",
    "for x in mycursor:\n",
    "    print(x)"
   ]
  },
  {
   "cell_type": "code",
   "execution_count": null,
   "id": "9a8e5505",
   "metadata": {},
   "outputs": [],
   "source": []
  }
 ],
 "metadata": {
  "kernelspec": {
   "display_name": "Python 3 (ipykernel)",
   "language": "python",
   "name": "python3"
  },
  "language_info": {
   "codemirror_mode": {
    "name": "ipython",
    "version": 3
   },
   "file_extension": ".py",
   "mimetype": "text/x-python",
   "name": "python",
   "nbconvert_exporter": "python",
   "pygments_lexer": "ipython3",
   "version": "3.9.12"
  }
 },
 "nbformat": 4,
 "nbformat_minor": 5
}
