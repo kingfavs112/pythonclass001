{
 "cells": [
  {
   "cell_type": "code",
   "execution_count": 1,
   "id": "af0c4217",
   "metadata": {},
   "outputs": [
    {
     "name": "stdout",
     "output_type": "stream",
     "text": [
      "['__doc__', '__loader__', '__name__', '__package__', '__spec__', 'acos', 'acosh', 'asin', 'asinh', 'atan', 'atan2', 'atanh', 'ceil', 'comb', 'copysign', 'cos', 'cosh', 'degrees', 'dist', 'e', 'erf', 'erfc', 'exp', 'expm1', 'fabs', 'factorial', 'floor', 'fmod', 'frexp', 'fsum', 'gamma', 'gcd', 'hypot', 'inf', 'isclose', 'isfinite', 'isinf', 'isnan', 'isqrt', 'lcm', 'ldexp', 'lgamma', 'log', 'log10', 'log1p', 'log2', 'modf', 'nan', 'nextafter', 'perm', 'pi', 'pow', 'prod', 'radians', 'remainder', 'sin', 'sinh', 'sqrt', 'tan', 'tanh', 'tau', 'trunc', 'ulp']\n"
     ]
    }
   ],
   "source": [
    "# MODULUS\n",
    "import math\n",
    "print(dir(math))"
   ]
  },
  {
   "cell_type": "code",
   "execution_count": 4,
   "id": "9a623120",
   "metadata": {},
   "outputs": [
    {
     "name": "stdout",
     "output_type": "stream",
     "text": [
      "15\n",
      "14\n",
      "2.647592232065096\n",
      "3.757658845611187\n"
     ]
    }
   ],
   "source": [
    "num = 14.12\n",
    "print(math.ceil(num))\n",
    "print(math.floor(num))\n",
    "print(math.log(num))\n",
    "print(math.sqrt(num))"
   ]
  },
  {
   "cell_type": "code",
   "execution_count": 5,
   "id": "08a1d010",
   "metadata": {},
   "outputs": [
    {
     "name": "stdout",
     "output_type": "stream",
     "text": [
      "['Counter', 'Decimal', 'Fraction', 'NormalDist', 'StatisticsError', '__all__', '__builtins__', '__cached__', '__doc__', '__file__', '__loader__', '__name__', '__package__', '__spec__', '_coerce', '_convert', '_exact_ratio', '_fail_neg', '_find_lteq', '_find_rteq', '_isfinite', '_normal_dist_inv_cdf', '_ss', '_sum', 'bisect_left', 'bisect_right', 'erf', 'exp', 'fabs', 'fmean', 'fsum', 'geometric_mean', 'groupby', 'harmonic_mean', 'hypot', 'itemgetter', 'log', 'math', 'mean', 'median', 'median_grouped', 'median_high', 'median_low', 'mode', 'multimode', 'numbers', 'pstdev', 'pvariance', 'quantiles', 'random', 'sqrt', 'stdev', 'tau', 'variance']\n"
     ]
    }
   ],
   "source": [
    "import statistics as stat\n",
    "print(dir(stat))"
   ]
  },
  {
   "cell_type": "code",
   "execution_count": 6,
   "id": "ededc694",
   "metadata": {},
   "outputs": [
    {
     "name": "stdout",
     "output_type": "stream",
     "text": [
      "61.9375\n",
      "62.5\n",
      "[78, 45]\n"
     ]
    }
   ],
   "source": [
    "numbers = [78,45,69,32,14,56,87,96,95,45,78,45,78,50,45,78]\n",
    "print(stat.mean(numbers))\n",
    "print(stat.median(numbers))\n",
    "print(stat.multimode(numbers))"
   ]
  },
  {
   "cell_type": "code",
   "execution_count": 7,
   "id": "88cf655d",
   "metadata": {},
   "outputs": [
    {
     "name": "stdout",
     "output_type": "stream",
     "text": [
      "['BPF', 'LOG4', 'NV_MAGICCONST', 'RECIP_BPF', 'Random', 'SG_MAGICCONST', 'SystemRandom', 'TWOPI', '_Sequence', '_Set', '__all__', '__builtins__', '__cached__', '__doc__', '__file__', '__loader__', '__name__', '__package__', '__spec__', '_accumulate', '_acos', '_bisect', '_ceil', '_cos', '_e', '_exp', '_floor', '_inst', '_log', '_os', '_pi', '_random', '_repeat', '_sha512', '_sin', '_sqrt', '_test', '_test_generator', '_urandom', '_warn', 'betavariate', 'choice', 'choices', 'expovariate', 'gammavariate', 'gauss', 'getrandbits', 'getstate', 'lognormvariate', 'normalvariate', 'paretovariate', 'randbytes', 'randint', 'random', 'randrange', 'sample', 'seed', 'setstate', 'shuffle', 'triangular', 'uniform', 'vonmisesvariate', 'weibullvariate']\n"
     ]
    }
   ],
   "source": [
    "import random\n",
    "print(dir(random))"
   ]
  },
  {
   "cell_type": "code",
   "execution_count": 8,
   "id": "e6d14924",
   "metadata": {},
   "outputs": [
    {
     "name": "stdout",
     "output_type": "stream",
     "text": [
      "[78, 45, 50, 45, 78, 96, 45, 32, 87, 78, 14, 69, 78, 45, 95, 56]\n"
     ]
    }
   ],
   "source": [
    "random.shuffle(numbers)\n",
    "print(numbers)"
   ]
  },
  {
   "cell_type": "code",
   "execution_count": 5,
   "id": "c7d54fc5",
   "metadata": {},
   "outputs": [
    {
     "ename": "NameError",
     "evalue": "name 'random' is not defined",
     "output_type": "error",
     "traceback": [
      "\u001b[1;31m---------------------------------------------------------------------------\u001b[0m",
      "\u001b[1;31mNameError\u001b[0m                                 Traceback (most recent call last)",
      "Input \u001b[1;32mIn [5]\u001b[0m, in \u001b[0;36m<cell line: 1>\u001b[1;34m()\u001b[0m\n\u001b[1;32m----> 1\u001b[0m \u001b[43mrandom\u001b[49m\u001b[38;5;241m.\u001b[39mrandit(numbers)\n",
      "\u001b[1;31mNameError\u001b[0m: name 'random' is not defined"
     ]
    }
   ],
   "source": [
    "random.randit(numbers)"
   ]
  },
  {
   "cell_type": "code",
   "execution_count": 9,
   "id": "8b9dee8c",
   "metadata": {},
   "outputs": [
    {
     "name": "stdout",
     "output_type": "stream",
     "text": [
      "please provide a number0\n"
     ]
    }
   ],
   "source": [
    "#CONDITIONAL STATEMENT\n",
    "#write a program to display an output if the users number is positive numbers\n",
    "users_numbers = int(input('please provide a number'))\n",
    "if users_numbers > 0:\n",
    "    print(f'{users_number}is a positive number')"
   ]
  },
  {
   "cell_type": "code",
   "execution_count": 25,
   "id": "c77965fa",
   "metadata": {},
   "outputs": [
    {
     "name": "stdout",
     "output_type": "stream",
     "text": [
      "please provide a number:0\n",
      "0is a negative number or zero\n"
     ]
    }
   ],
   "source": [
    "\n",
    "users_numbers = int(input('please provide a number:'))\n",
    "if users_numbers > 0:\n",
    "    print(f'{users_numbers}is a positive number')\n",
    "else:\n",
    "    print(f'{users_numbers}is a negative number or zero')"
   ]
  },
  {
   "cell_type": "code",
   "execution_count": 30,
   "id": "ccb0c4e7",
   "metadata": {},
   "outputs": [
    {
     "name": "stdout",
     "output_type": "stream",
     "text": [
      "Drivers speed:200\n",
      "you are above the speed limit with a total point of 26.0,therefore you are suspended\n"
     ]
    }
   ],
   "source": [
    "default_speed = 70\n",
    "Dspeed = float(input('Drivers speed:'))\n",
    "if Dspeed <= 70:\n",
    "    print('speed on point')\n",
    "else:\n",
    "    speedpoint = (Dspeed - default_speed)//5\n",
    "    if speedpoint <= 12:\n",
    "        print(f'Bewarned your are {speedpoint} point above our default speed for every 5km which is still acceptable')\n",
    "    else:\n",
    "        print(f'you are above the speed limit with a total point of {speedpoint},therefore you are suspended')"
   ]
  },
  {
   "cell_type": "code",
   "execution_count": 1,
   "id": "c74f204a",
   "metadata": {},
   "outputs": [
    {
     "name": "stdout",
     "output_type": "stream",
     "text": [
      "WELCOME TO POINT VIEW ARENA\n",
      "GF.SUPERMARKET\n",
      "1.GYM AND SPA\n",
      "2.OBOT COMPUTER TRAINING CENTER\n",
      "3.SALOON AND BEAUTY CARE\n",
      "4.LOUNGE\n",
      "\n",
      "press the button to your desired floor:7\n",
      "Try again by pressing the right button\n"
     ]
    }
   ],
   "source": [
    "# LIFT CODE\n",
    "print('''WELCOME TO POINT VIEW ARENA\n",
    "GF.SUPERMARKET\n",
    "1.GYM AND SPA\n",
    "2.OBOT COMPUTER TRAINING CENTER\n",
    "3.SALOON AND BEAUTY CARE\n",
    "4.LOUNGE\n",
    "''')\n",
    "button = input('press the button to your desired floor:')\n",
    "if button == 'GF':\n",
    "    print('POM POM Ground floor')\n",
    "elif button == '1':\n",
    "    print('POM POM 1st floor')\n",
    "elif button =='2':\n",
    "    print('POM POM 2nd floor')\n",
    "elif button == '3':\n",
    "    print('POM POM 3rd floor')\n",
    "elif button == '4':\n",
    "    print('POM POM 4th floor')\n",
    "else:\n",
    "    print('Try again by pressing the right button')"
   ]
  },
  {
   "cell_type": "code",
   "execution_count": null,
   "id": "1039c16e",
   "metadata": {},
   "outputs": [],
   "source": []
  }
 ],
 "metadata": {
  "kernelspec": {
   "display_name": "Python 3 (ipykernel)",
   "language": "python",
   "name": "python3"
  },
  "language_info": {
   "codemirror_mode": {
    "name": "ipython",
    "version": 3
   },
   "file_extension": ".py",
   "mimetype": "text/x-python",
   "name": "python",
   "nbconvert_exporter": "python",
   "pygments_lexer": "ipython3",
   "version": "3.9.12"
  }
 },
 "nbformat": 4,
 "nbformat_minor": 5
}
