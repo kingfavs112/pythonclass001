{
 "cells": [
  {
   "cell_type": "code",
   "execution_count": 2,
   "id": "9ec00f64",
   "metadata": {},
   "outputs": [
    {
     "name": "stdout",
     "output_type": "stream",
     "text": [
      "please provide first number:45\n",
      "please provide the second number:30\n",
      "PLEASE PICK YOUR DESIRED OPERATION [+,-,*,/]:+\n",
      "45 + 30 = 75\n"
     ]
    }
   ],
   "source": [
    "#ERROR HANDLING\n",
    "try:\n",
    "    num1 = int(input('please provide first number:'))\n",
    "    num2 = int(input('please provide the second number:'))\n",
    "    operation = input('PLEASE PICK YOUR DESIRED OPERATION [+,-,*,/]:')\n",
    "    if operation == '+':\n",
    "        print(f'{num1} + {num2} = {num1 + num2}')\n",
    "    elif operation == '-':\n",
    "        print(f'{num1} - {num2} = {num1 - num2}')\n",
    "    elif operation == '*':\n",
    "        print(f'{num1} x {num2} = {num1 * num2}')\n",
    "    elif operation == '/':\n",
    "        print(f'{num1} / {num2} = {num1 / num2}')\n",
    "    else:\n",
    "        print('invalide operation')\n",
    "except:\n",
    "        print('yopu have encountered one or more errors')"
   ]
  },
  {
   "cell_type": "code",
   "execution_count": 8,
   "id": "79410f83",
   "metadata": {},
   "outputs": [
    {
     "name": "stdout",
     "output_type": "stream",
     "text": [
      "please provide first number:65\n",
      "please provide the second number:58\n",
      "PLEASE PICK YOUR DESIRED OPERATION [+,-,*,/]:+\n",
      "65 + 58 = 123\n",
      "14092066543810077120705640786569356189334139589389979301742015896717341583155302942031994462013244628906\n",
      "End of program\n"
     ]
    }
   ],
   "source": [
    "try:\n",
    "    num1 = int(input('please provide first number:'))\n",
    "    num2 = int(input('please provide the second number:'))\n",
    "    operation = input('PLEASE PICK YOUR DESIRED OPERATION [+,-,*,/]:')\n",
    "    if operation == '+':\n",
    "        print(f'{num1} + {num2} = {num1 + num2}')\n",
    "    elif operation == '-':\n",
    "        print(f'{num1} - {num2} = {num1 - num2}')\n",
    "    elif operation == '*':\n",
    "        print(f'{num1} x {num2} = {num1 * num2}')\n",
    "    elif operation == '/':\n",
    "        print(f'{num1} / {num2} = {num1 / num2}')\n",
    "    else:\n",
    "        print('invalide operation')\n",
    "except ValueError:\n",
    "    print('you have entered a wrong value, whole number expected')\n",
    "except ZeroDivisionError:\n",
    "    print('sorry you cannot divide a number by zero')\n",
    "except:\n",
    "    print('yopu have encountered one or more errors')\n",
    "else:\n",
    "    print((num1 ** num2)//100)\n",
    "finally:\n",
    "    print('End of program')"
   ]
  },
  {
   "cell_type": "code",
   "execution_count": 2,
   "id": "0ae11d4e",
   "metadata": {},
   "outputs": [
    {
     "name": "stdout",
     "output_type": "stream",
     "text": [
      "WELCOME TO GRAND GREEN MALL\n",
      "___________________LIFT OPTION____________________\n",
      "1: FIRST FLOOR :::[SHOP1:GREEN AVENUE COMPUTER TRAINING INSTITUTE, SHOP2:KIDS MATTER,SHOP3:IP COMPUTER AND PHONES]\n",
      "2: SECOND FLOOR :::[SHOP1:PRIME MEDICAL CONSULTANT, SHOP2:BRIGHT WEARS,SHOP3:YOUNG SPA]\n",
      "3: THIRD FLOOR  :::[SHOP1:METTY  UNISEX SALON, SHOP2:TRAVEL BETA,SHOP3:OPTIMAL CYBER CAFE]\n",
      "4: FOUTH FLOOR :::[SHOP1:ADE UNISEX BAGS, SHOP2:MAJOR REAL ESTATE,SHOP3:MR LUNG COMPUTER AND PHONES ACCESSORIES]\n",
      "5: FIFTH FLOOR :::[SHOP1:HERMOND LABORATORY, SHOP2:ULESSON BRANCH OFFICE,SHOP3:LOUNGE ]\n",
      "GF: GROUND FLOOR :::[SHOP1:ERNEST SUPERMARKET, SHOP2:GRAND VIEW WEARS,SHOP3:SHAWAMA SPOT]\n",
      "\n",
      "PLEASE PRESS THE BUTTON TO YOUR DESIRED FLOOR2\n",
      "POM POM SECOND FLOOR\n",
      "TURN RIGHT TO SHOP1, TURN LEFT TO SHOP2, MOVE FORWARD TO SHOP3\n",
      "END OF PROGRAM\n"
     ]
    }
   ],
   "source": [
    "try:\n",
    "    print('WELCOME TO GRAND GREEN MALL')\n",
    "    print('''___________________LIFT OPTION____________________\n",
    "1: FIRST FLOOR :::[SHOP1:GREEN AVENUE COMPUTER TRAINING INSTITUTE, SHOP2:KIDS MATTER,SHOP3:IP COMPUTER AND PHONES]\n",
    "2: SECOND FLOOR :::[SHOP1:PRIME MEDICAL CONSULTANT, SHOP2:BRIGHT WEARS,SHOP3:YOUNG SPA]\n",
    "3: THIRD FLOOR  :::[SHOP1:METTY  UNISEX SALON, SHOP2:TRAVEL BETA,SHOP3:OPTIMAL CYBER CAFE]\n",
    "4: FOUTH FLOOR :::[SHOP1:ADE UNISEX BAGS, SHOP2:MAJOR REAL ESTATE,SHOP3:MR LUNG COMPUTER AND PHONES ACCESSORIES]\n",
    "5: FIFTH FLOOR :::[SHOP1:HERMOND LABORATORY, SHOP2:ULESSON BRANCH OFFICE,SHOP3:LOUNGE ]\n",
    "GF: GROUND FLOOR :::[SHOP1:ERNEST SUPERMARKET, SHOP2:GRAND VIEW WEARS,SHOP3:SHAWAMA SPOT]\n",
    "''')\n",
    "    floor_option = input('PLEASE PRESS THE BUTTON TO YOUR DESIRED FLOOR')\n",
    "    if floor_option == '1':\n",
    "        print('POM POM FIRST FLOOR')\n",
    "        print('TURN RIGHT TO SHOP1, TURN LEFT TO SHOP2, MOVE FORWARD TO SHOP3')\n",
    "    elif floor_option == '2':\n",
    "        print('POM POM SECOND FLOOR')\n",
    "        print('TURN RIGHT TO SHOP1, TURN LEFT TO SHOP2, MOVE FORWARD TO SHOP3')\n",
    "    elif floor_option == '3':\n",
    "        print('POM POM THIRD FLOOR')\n",
    "        print('TURN RIGHT TO SHOP1, TURN LEFT TO SHOP2, MOVE FORWARD TO SHOP3')\n",
    "    elif floor_option == '4':\n",
    "        print('POM POM FOUTH FLOOR')\n",
    "        print('TURN RIGHT TO SHOP1, TURN LEFT TO SHOP2, MOVE FORWARD TO SHOP3')\n",
    "    elif floor_option == '5':\n",
    "        print('POM POM FIFTH FLOOR')\n",
    "        print('TURN RIGHT TO SHOP1, TURN LEFT TO SHOP2, MOVE FORWARD TO SHOP3')\n",
    "    elif floor_option == 'GFR':\n",
    "        print('POM POM GROUND FLOOR')\n",
    "        print('TURN RIGHT TO SHOP1, TURN LEFT TO SHOP2, MOVE FORWARD TO SHOP3')\n",
    "    else:\n",
    "        print('INVALID FLOOR OPTION')\n",
    "except ValueError:\n",
    "    print('String values is required')\n",
    "except IndentationError:\n",
    "    print('Your Program is not well aligned')\n",
    "except:\n",
    "    print('You have Encountered one or more errors')\n",
    "finally:\n",
    "    print('END OF PROGRAM')\n",
    "\n",
    "\n",
    "\n"
   ]
  },
  {
   "cell_type": "code",
   "execution_count": null,
   "id": "745ce78a",
   "metadata": {},
   "outputs": [],
   "source": []
  }
 ],
 "metadata": {
  "kernelspec": {
   "display_name": "Python 3 (ipykernel)",
   "language": "python",
   "name": "python3"
  },
  "language_info": {
   "codemirror_mode": {
    "name": "ipython",
    "version": 3
   },
   "file_extension": ".py",
   "mimetype": "text/x-python",
   "name": "python",
   "nbconvert_exporter": "python",
   "pygments_lexer": "ipython3",
   "version": "3.9.12"
  }
 },
 "nbformat": 4,
 "nbformat_minor": 5
}
